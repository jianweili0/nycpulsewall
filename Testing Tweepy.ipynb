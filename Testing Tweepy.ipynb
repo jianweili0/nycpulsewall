{
 "cells": [
  {
   "cell_type": "code",
   "execution_count": 29,
   "metadata": {},
   "outputs": [],
   "source": [
    "import os\n",
    "\n",
    "import tweepy\n",
    "\n",
    "#https://medium.freecodecamp.org/how-to-build-a-twitter-sentiments-analyzer-in-python-using-textblob-948e1e8aae14\n",
    "from textblob import TextBlob\n",
    "\n",
    "from IPython.core.display import clear_output\n",
    "from time import time\n",
    "\n",
    "import random\n",
    "from shapely.affinity import affine_transform\n",
    "from shapely.geometry import shape, mapping, Point\n",
    "import json"
   ]
  },
  {
   "cell_type": "code",
   "execution_count": 30,
   "metadata": {},
   "outputs": [],
   "source": [
    "TWITTER_KEY = os.getenv('TWITTER_KEY')\n",
    "TWITTER_SECRET = os.getenv('TWITTER_SECRET')\n",
    "TWITTER_TOKEN = os.getenv('TWITTER_TOKEN')\n",
    "TWITTER_TOKEN_SECRET = os.getenv('TWITTER_TOKEN_SECRET')"
   ]
  },
  {
   "cell_type": "code",
   "execution_count": 31,
   "metadata": {},
   "outputs": [],
   "source": [
    "auth = tweepy.OAuthHandler(TWITTER_KEY, TWITTER_SECRET)\n",
    "auth.set_access_token(TWITTER_TOKEN, TWITTER_TOKEN_SECRET)\n",
    "\n",
    "api = tweepy.API(auth)"
   ]
  },
  {
   "cell_type": "code",
   "execution_count": 56,
   "metadata": {},
   "outputs": [],
   "source": [
    "#Pre-calculated triangulation to speed-up process:\n",
    "with open('nyc-borough-processed.geojson') as json_file:  \n",
    "    nyc_boroughs = json.load(json_file)\n",
    "    \n",
    "for boro in nyc_boroughs['features']:\n",
    "    boro['geometry'] = shape(boro['geometry'])\n",
    "\n",
    "#Based on https://codereview.stackexchange.com/questions/69833/generate-sample-coordinates-inside-a-polygon\n",
    "def random_point_in_polygon(transforms, areas):\n",
    "    transform = random.choices(transforms, weights=areas)\n",
    "    x, y = [random.random() for _ in range(2)]\n",
    "    if x + y > 1:\n",
    "        p = Point(1 - x, 1 - y)\n",
    "    else:\n",
    "        p = Point(x, y)\n",
    "    return affine_transform(p, transform[0])\n",
    "    \n",
    "def random_point_in_box(box):\n",
    "    minx, miny, maxx, maxy = box.bounds\n",
    "    center = box.centroid\n",
    "    return Point(random.triangular(minx, maxx, center.x), random.triangular(miny, maxy, center.y))\n",
    "\n",
    "def which_borough(point):\n",
    "    for boro in nyc_boroughs['features']:\n",
    "        if boro['geometry'].intersects(point):\n",
    "            return boro['properties']['boro_name']\n",
    "    return False\n",
    "    \n",
    "def process_coordinates(tweet):\n",
    "    \n",
    "    boro_list = ['Manhattan', 'Brooklyn', 'Bronxs', 'Queens', 'Staten Island']\n",
    "    nyc_ids = ['27485069891a7938','94965b2c45386f87']\n",
    "    tweet['coords_source'] = 'Randomized'\n",
    "        \n",
    "    if tweet['coordinates']:\n",
    "        #Check if inside NYC\n",
    "        coords = shape(tweet['coordinates'])\n",
    "        boro_name = which_borough(coords)\n",
    "        if boro_name:\n",
    "            tweet['coords_source'] = 'Origin'\n",
    "            tweet['coordinates'] = mapping(coords)\n",
    "            tweet['borough'] = boro_name\n",
    "        else: \n",
    "            tweet['coords_source'] = False    \n",
    "            \n",
    "    elif tweet['place']['place_type'] == 'poi':\n",
    "        #Point of interest.\n",
    "        coords = random_point_in_box(shape(tweet['place']['bounding_box']))\n",
    "        boro_name = which_borough(coords)\n",
    "        if boro_name:\n",
    "            tweet['coordinates'] = mapping(coords)\n",
    "            tweet['borough'] = boro_name\n",
    "        else: \n",
    "            tweet['coords_source'] = False\n",
    "        \n",
    "    elif (tweet['place']['place_type'] == 'neighborhood') & any(tweet['place']['full_name'].endswith(boro) for boro in boro_list):\n",
    "        #Place is a neigborhood in a NYC borough. Full name is [Neigborhood], [City (Borough)]\n",
    "        boro_name = tweet['place']['full_name'].split(', ')[-1]\n",
    "        \n",
    "        if boro_name not in boro_list:\n",
    "            raise ValueError('{} from {} not a boro'.format(boro_name, tweet['place']['name']))\n",
    "        \n",
    "        boro = list(filter(lambda x: x['properties']['boro_name'] == boro_name, nyc_boroughs['features']))[0]        \n",
    "        tweet['coordinates'] = mapping(random_point_in_polygon(boro['transforms'], boro['areas']))\n",
    "        tweet['borough'] = boro_name\n",
    "        \n",
    "    elif (tweet['place']['place_type'] == 'city') & (tweet['place']['name'] in boro_list):\n",
    "        #Place is a NYC borough\n",
    "        tweet['coordinates'] = mapping(random_point_in_box(shape(tweet['place']['bounding_box'])))\n",
    "        tweet['borough'] = tweet['place']['name']\n",
    "        \n",
    "    elif (tweet['place']['place_type'] == 'admin') & (tweet['place']['id'] in nyc_ids):\n",
    "        #Place is NYC\n",
    "        b = random.randint(0,4)\n",
    "        boro = nyc_boroughs['features'][b]\n",
    "        tweet['coordinates'] = mapping(random_point_in_polygon(boro['transforms'], boro['areas']))\n",
    "        tweet['borough'] = boro['properties']['boro_name']\n",
    "        \n",
    "    else:\n",
    "        tweet['coords_source'] = False\n",
    "        \n",
    "    return tweet"
   ]
  },
  {
   "cell_type": "code",
   "execution_count": 57,
   "metadata": {},
   "outputs": [],
   "source": [
    "allTweets = []\n",
    "\n",
    "class MyStreamListener(tweepy.StreamListener):\n",
    "\n",
    "    latestTweets = []\n",
    "    totalTweets = 0\n",
    "    nExactLocation = 0\n",
    "    startTime = None\n",
    "    \n",
    "    def on_data(self, data):\n",
    "        \n",
    "        status = json.loads(data)\n",
    "        \n",
    "        if (status['coordinates']):\n",
    "            self.nExactLocation += 1\n",
    "        \n",
    "        status = process_coordinates(status)\n",
    "        \n",
    "        analysis = TextBlob(status['text'])\n",
    "        \n",
    "        allTweets.insert(0,status)\n",
    "        self.latestTweets.insert(0,(status['text'], analysis.sentiment[0], status['coords_source'], status['coordinates']))\n",
    "        self.totalTweets += 1\n",
    "        \n",
    "        if (self.startTime is None):\n",
    "            self.startTime = time()\n",
    "        \n",
    "        if len(self.latestTweets) > 10:\n",
    "            self.latestTweets.pop()\n",
    "        \n",
    "        for tweet in self.latestTweets:\n",
    "            print(tweet)\n",
    "            \n",
    "        print()\n",
    "        elapsedTime = time() - self.startTime\n",
    "        print('Tweets with lat/long: {} of {} ({:.2f}%); Frequency: {:.2f} tweets/s'.format(self.nExactLocation,\n",
    "                                                                                              self.totalTweets,\n",
    "                                                                                              self.nExactLocation/self.totalTweets*100,\n",
    "                                                                                              self.totalTweets/elapsedTime))\n",
    "        \n",
    "        clear_output(wait=True)\n",
    "        \n",
    "    def on_error(self, status_code):\n",
    "        if status_code == 420:\n",
    "            #returning False in on_error disconnects the stream\n",
    "            return False"
   ]
  },
  {
   "cell_type": "code",
   "execution_count": 58,
   "metadata": {},
   "outputs": [],
   "source": [
    "myStreamListener = MyStreamListener()\n",
    "myStream = tweepy.Stream(auth = api.auth, listener=myStreamListener)"
   ]
  },
  {
   "cell_type": "code",
   "execution_count": 59,
   "metadata": {},
   "outputs": [
    {
     "ename": "KeyboardInterrupt",
     "evalue": "",
     "output_type": "error",
     "traceback": [
      "\u001b[0;31m---------------------------------------------------------------------------\u001b[0m",
      "\u001b[0;31mWantReadError\u001b[0m                             Traceback (most recent call last)",
      "\u001b[0;32m/opt/conda/lib/python3.6/site-packages/urllib3/contrib/pyopenssl.py\u001b[0m in \u001b[0;36mrecv_into\u001b[0;34m(self, *args, **kwargs)\u001b[0m\n\u001b[1;32m    293\u001b[0m         \u001b[0;32mtry\u001b[0m\u001b[0;34m:\u001b[0m\u001b[0;34m\u001b[0m\u001b[0;34m\u001b[0m\u001b[0m\n\u001b[0;32m--> 294\u001b[0;31m             \u001b[0;32mreturn\u001b[0m \u001b[0mself\u001b[0m\u001b[0;34m.\u001b[0m\u001b[0mconnection\u001b[0m\u001b[0;34m.\u001b[0m\u001b[0mrecv_into\u001b[0m\u001b[0;34m(\u001b[0m\u001b[0;34m*\u001b[0m\u001b[0margs\u001b[0m\u001b[0;34m,\u001b[0m \u001b[0;34m**\u001b[0m\u001b[0mkwargs\u001b[0m\u001b[0;34m)\u001b[0m\u001b[0;34m\u001b[0m\u001b[0;34m\u001b[0m\u001b[0m\n\u001b[0m\u001b[1;32m    295\u001b[0m         \u001b[0;32mexcept\u001b[0m \u001b[0mOpenSSL\u001b[0m\u001b[0;34m.\u001b[0m\u001b[0mSSL\u001b[0m\u001b[0;34m.\u001b[0m\u001b[0mSysCallError\u001b[0m \u001b[0;32mas\u001b[0m \u001b[0me\u001b[0m\u001b[0;34m:\u001b[0m\u001b[0;34m\u001b[0m\u001b[0;34m\u001b[0m\u001b[0m\n",
      "\u001b[0;32m/opt/conda/lib/python3.6/site-packages/OpenSSL/SSL.py\u001b[0m in \u001b[0;36mrecv_into\u001b[0;34m(self, buffer, nbytes, flags)\u001b[0m\n\u001b[1;32m   1813\u001b[0m             \u001b[0mresult\u001b[0m \u001b[0;34m=\u001b[0m \u001b[0m_lib\u001b[0m\u001b[0;34m.\u001b[0m\u001b[0mSSL_read\u001b[0m\u001b[0;34m(\u001b[0m\u001b[0mself\u001b[0m\u001b[0;34m.\u001b[0m\u001b[0m_ssl\u001b[0m\u001b[0;34m,\u001b[0m \u001b[0mbuf\u001b[0m\u001b[0;34m,\u001b[0m \u001b[0mnbytes\u001b[0m\u001b[0;34m)\u001b[0m\u001b[0;34m\u001b[0m\u001b[0;34m\u001b[0m\u001b[0m\n\u001b[0;32m-> 1814\u001b[0;31m         \u001b[0mself\u001b[0m\u001b[0;34m.\u001b[0m\u001b[0m_raise_ssl_error\u001b[0m\u001b[0;34m(\u001b[0m\u001b[0mself\u001b[0m\u001b[0;34m.\u001b[0m\u001b[0m_ssl\u001b[0m\u001b[0;34m,\u001b[0m \u001b[0mresult\u001b[0m\u001b[0;34m)\u001b[0m\u001b[0;34m\u001b[0m\u001b[0;34m\u001b[0m\u001b[0m\n\u001b[0m\u001b[1;32m   1815\u001b[0m \u001b[0;34m\u001b[0m\u001b[0m\n",
      "\u001b[0;32m/opt/conda/lib/python3.6/site-packages/OpenSSL/SSL.py\u001b[0m in \u001b[0;36m_raise_ssl_error\u001b[0;34m(self, ssl, result)\u001b[0m\n\u001b[1;32m   1613\u001b[0m         \u001b[0;32mif\u001b[0m \u001b[0merror\u001b[0m \u001b[0;34m==\u001b[0m \u001b[0m_lib\u001b[0m\u001b[0;34m.\u001b[0m\u001b[0mSSL_ERROR_WANT_READ\u001b[0m\u001b[0;34m:\u001b[0m\u001b[0;34m\u001b[0m\u001b[0;34m\u001b[0m\u001b[0m\n\u001b[0;32m-> 1614\u001b[0;31m             \u001b[0;32mraise\u001b[0m \u001b[0mWantReadError\u001b[0m\u001b[0;34m(\u001b[0m\u001b[0;34m)\u001b[0m\u001b[0;34m\u001b[0m\u001b[0;34m\u001b[0m\u001b[0m\n\u001b[0m\u001b[1;32m   1615\u001b[0m         \u001b[0;32melif\u001b[0m \u001b[0merror\u001b[0m \u001b[0;34m==\u001b[0m \u001b[0m_lib\u001b[0m\u001b[0;34m.\u001b[0m\u001b[0mSSL_ERROR_WANT_WRITE\u001b[0m\u001b[0;34m:\u001b[0m\u001b[0;34m\u001b[0m\u001b[0;34m\u001b[0m\u001b[0m\n",
      "\u001b[0;31mWantReadError\u001b[0m: ",
      "\nDuring handling of the above exception, another exception occurred:\n",
      "\u001b[0;31mKeyboardInterrupt\u001b[0m                         Traceback (most recent call last)",
      "\u001b[0;32m<ipython-input-59-99c889fde048>\u001b[0m in \u001b[0;36m<module>\u001b[0;34m\u001b[0m\n\u001b[1;32m      1\u001b[0m \u001b[0;31m#New York City bounding box according to Twitter Docs: -74,40,-73,41\u001b[0m\u001b[0;34m\u001b[0m\u001b[0;34m\u001b[0m\u001b[0;34m\u001b[0m\u001b[0m\n\u001b[1;32m      2\u001b[0m \u001b[0;31m#https://developer.twitter.com/en/docs/tweets/filter-realtime/guides/basic-stream-parameters\u001b[0m\u001b[0;34m\u001b[0m\u001b[0;34m\u001b[0m\u001b[0;34m\u001b[0m\u001b[0m\n\u001b[0;32m----> 3\u001b[0;31m \u001b[0mmyStream\u001b[0m\u001b[0;34m.\u001b[0m\u001b[0mfilter\u001b[0m\u001b[0;34m(\u001b[0m\u001b[0mlocations\u001b[0m\u001b[0;34m=\u001b[0m\u001b[0;34m[\u001b[0m\u001b[0;34m-\u001b[0m\u001b[0;36m74.3\u001b[0m\u001b[0;34m,\u001b[0m\u001b[0;36m40.48\u001b[0m\u001b[0;34m,\u001b[0m\u001b[0;34m-\u001b[0m\u001b[0;36m73.7\u001b[0m\u001b[0;34m,\u001b[0m\u001b[0;36m40.93\u001b[0m\u001b[0;34m]\u001b[0m\u001b[0;34m)\u001b[0m\u001b[0;34m\u001b[0m\u001b[0;34m\u001b[0m\u001b[0m\n\u001b[0m",
      "\u001b[0;32m/opt/conda/lib/python3.6/site-packages/tweepy/streaming.py\u001b[0m in \u001b[0;36mfilter\u001b[0;34m(self, follow, track, is_async, locations, stall_warnings, languages, encoding, filter_level)\u001b[0m\n\u001b[1;32m    451\u001b[0m             \u001b[0mself\u001b[0m\u001b[0;34m.\u001b[0m\u001b[0mbody\u001b[0m\u001b[0;34m[\u001b[0m\u001b[0;34m'filter_level'\u001b[0m\u001b[0;34m]\u001b[0m \u001b[0;34m=\u001b[0m \u001b[0mfilter_level\u001b[0m\u001b[0;34m.\u001b[0m\u001b[0mencode\u001b[0m\u001b[0;34m(\u001b[0m\u001b[0mencoding\u001b[0m\u001b[0;34m)\u001b[0m\u001b[0;34m\u001b[0m\u001b[0;34m\u001b[0m\u001b[0m\n\u001b[1;32m    452\u001b[0m         \u001b[0mself\u001b[0m\u001b[0;34m.\u001b[0m\u001b[0msession\u001b[0m\u001b[0;34m.\u001b[0m\u001b[0mparams\u001b[0m \u001b[0;34m=\u001b[0m \u001b[0;34m{\u001b[0m\u001b[0;34m'delimited'\u001b[0m\u001b[0;34m:\u001b[0m \u001b[0;34m'length'\u001b[0m\u001b[0;34m}\u001b[0m\u001b[0;34m\u001b[0m\u001b[0;34m\u001b[0m\u001b[0m\n\u001b[0;32m--> 453\u001b[0;31m         \u001b[0mself\u001b[0m\u001b[0;34m.\u001b[0m\u001b[0m_start\u001b[0m\u001b[0;34m(\u001b[0m\u001b[0mis_async\u001b[0m\u001b[0;34m)\u001b[0m\u001b[0;34m\u001b[0m\u001b[0;34m\u001b[0m\u001b[0m\n\u001b[0m\u001b[1;32m    454\u001b[0m \u001b[0;34m\u001b[0m\u001b[0m\n\u001b[1;32m    455\u001b[0m     def sitestream(self, follow, stall_warnings=False,\n",
      "\u001b[0;32m/opt/conda/lib/python3.6/site-packages/tweepy/streaming.py\u001b[0m in \u001b[0;36m_start\u001b[0;34m(self, is_async)\u001b[0m\n\u001b[1;32m    366\u001b[0m             \u001b[0mself\u001b[0m\u001b[0;34m.\u001b[0m\u001b[0m_thread\u001b[0m\u001b[0;34m.\u001b[0m\u001b[0mstart\u001b[0m\u001b[0;34m(\u001b[0m\u001b[0;34m)\u001b[0m\u001b[0;34m\u001b[0m\u001b[0;34m\u001b[0m\u001b[0m\n\u001b[1;32m    367\u001b[0m         \u001b[0;32melse\u001b[0m\u001b[0;34m:\u001b[0m\u001b[0;34m\u001b[0m\u001b[0;34m\u001b[0m\u001b[0m\n\u001b[0;32m--> 368\u001b[0;31m             \u001b[0mself\u001b[0m\u001b[0;34m.\u001b[0m\u001b[0m_run\u001b[0m\u001b[0;34m(\u001b[0m\u001b[0;34m)\u001b[0m\u001b[0;34m\u001b[0m\u001b[0;34m\u001b[0m\u001b[0m\n\u001b[0m\u001b[1;32m    369\u001b[0m \u001b[0;34m\u001b[0m\u001b[0m\n\u001b[1;32m    370\u001b[0m     \u001b[0;32mdef\u001b[0m \u001b[0mon_closed\u001b[0m\u001b[0;34m(\u001b[0m\u001b[0mself\u001b[0m\u001b[0;34m,\u001b[0m \u001b[0mresp\u001b[0m\u001b[0;34m)\u001b[0m\u001b[0;34m:\u001b[0m\u001b[0;34m\u001b[0m\u001b[0;34m\u001b[0m\u001b[0m\n",
      "\u001b[0;32m/opt/conda/lib/python3.6/site-packages/tweepy/streaming.py\u001b[0m in \u001b[0;36m_run\u001b[0;34m(self)\u001b[0m\n\u001b[1;32m    267\u001b[0m                     \u001b[0mself\u001b[0m\u001b[0;34m.\u001b[0m\u001b[0msnooze_time\u001b[0m \u001b[0;34m=\u001b[0m \u001b[0mself\u001b[0m\u001b[0;34m.\u001b[0m\u001b[0msnooze_time_step\u001b[0m\u001b[0;34m\u001b[0m\u001b[0;34m\u001b[0m\u001b[0m\n\u001b[1;32m    268\u001b[0m                     \u001b[0mself\u001b[0m\u001b[0;34m.\u001b[0m\u001b[0mlistener\u001b[0m\u001b[0;34m.\u001b[0m\u001b[0mon_connect\u001b[0m\u001b[0;34m(\u001b[0m\u001b[0;34m)\u001b[0m\u001b[0;34m\u001b[0m\u001b[0;34m\u001b[0m\u001b[0m\n\u001b[0;32m--> 269\u001b[0;31m                     \u001b[0mself\u001b[0m\u001b[0;34m.\u001b[0m\u001b[0m_read_loop\u001b[0m\u001b[0;34m(\u001b[0m\u001b[0mresp\u001b[0m\u001b[0;34m)\u001b[0m\u001b[0;34m\u001b[0m\u001b[0;34m\u001b[0m\u001b[0m\n\u001b[0m\u001b[1;32m    270\u001b[0m             \u001b[0;32mexcept\u001b[0m \u001b[0;34m(\u001b[0m\u001b[0mTimeout\u001b[0m\u001b[0;34m,\u001b[0m \u001b[0mssl\u001b[0m\u001b[0;34m.\u001b[0m\u001b[0mSSLError\u001b[0m\u001b[0;34m)\u001b[0m \u001b[0;32mas\u001b[0m \u001b[0mexc\u001b[0m\u001b[0;34m:\u001b[0m\u001b[0;34m\u001b[0m\u001b[0;34m\u001b[0m\u001b[0m\n\u001b[1;32m    271\u001b[0m                 \u001b[0;31m# This is still necessary, as a SSLError can actually be\u001b[0m\u001b[0;34m\u001b[0m\u001b[0;34m\u001b[0m\u001b[0;34m\u001b[0m\u001b[0m\n",
      "\u001b[0;32m/opt/conda/lib/python3.6/site-packages/tweepy/streaming.py\u001b[0m in \u001b[0;36m_read_loop\u001b[0;34m(self, resp)\u001b[0m\n\u001b[1;32m    317\u001b[0m             \u001b[0mlength\u001b[0m \u001b[0;34m=\u001b[0m \u001b[0;36m0\u001b[0m\u001b[0;34m\u001b[0m\u001b[0;34m\u001b[0m\u001b[0m\n\u001b[1;32m    318\u001b[0m             \u001b[0;32mwhile\u001b[0m \u001b[0;32mnot\u001b[0m \u001b[0mresp\u001b[0m\u001b[0;34m.\u001b[0m\u001b[0mraw\u001b[0m\u001b[0;34m.\u001b[0m\u001b[0mclosed\u001b[0m\u001b[0;34m:\u001b[0m\u001b[0;34m\u001b[0m\u001b[0;34m\u001b[0m\u001b[0m\n\u001b[0;32m--> 319\u001b[0;31m                 \u001b[0mline\u001b[0m \u001b[0;34m=\u001b[0m \u001b[0mbuf\u001b[0m\u001b[0;34m.\u001b[0m\u001b[0mread_line\u001b[0m\u001b[0;34m(\u001b[0m\u001b[0;34m)\u001b[0m\u001b[0;34m\u001b[0m\u001b[0;34m\u001b[0m\u001b[0m\n\u001b[0m\u001b[1;32m    320\u001b[0m                 \u001b[0mstripped_line\u001b[0m \u001b[0;34m=\u001b[0m \u001b[0mline\u001b[0m\u001b[0;34m.\u001b[0m\u001b[0mstrip\u001b[0m\u001b[0;34m(\u001b[0m\u001b[0;34m)\u001b[0m \u001b[0;32mif\u001b[0m \u001b[0mline\u001b[0m \u001b[0;32melse\u001b[0m \u001b[0mline\u001b[0m \u001b[0;31m# line is sometimes None so we need to check here\u001b[0m\u001b[0;34m\u001b[0m\u001b[0;34m\u001b[0m\u001b[0m\n\u001b[1;32m    321\u001b[0m                 \u001b[0;32mif\u001b[0m \u001b[0;32mnot\u001b[0m \u001b[0mstripped_line\u001b[0m\u001b[0;34m:\u001b[0m\u001b[0;34m\u001b[0m\u001b[0;34m\u001b[0m\u001b[0m\n",
      "\u001b[0;32m/opt/conda/lib/python3.6/site-packages/tweepy/streaming.py\u001b[0m in \u001b[0;36mread_line\u001b[0;34m(self, sep)\u001b[0m\n\u001b[1;32m    179\u001b[0m             \u001b[0;32melse\u001b[0m\u001b[0;34m:\u001b[0m\u001b[0;34m\u001b[0m\u001b[0;34m\u001b[0m\u001b[0m\n\u001b[1;32m    180\u001b[0m                 \u001b[0mstart\u001b[0m \u001b[0;34m=\u001b[0m \u001b[0mlen\u001b[0m\u001b[0;34m(\u001b[0m\u001b[0mself\u001b[0m\u001b[0;34m.\u001b[0m\u001b[0m_buffer\u001b[0m\u001b[0;34m)\u001b[0m\u001b[0;34m\u001b[0m\u001b[0;34m\u001b[0m\u001b[0m\n\u001b[0;32m--> 181\u001b[0;31m             \u001b[0mself\u001b[0m\u001b[0;34m.\u001b[0m\u001b[0m_buffer\u001b[0m \u001b[0;34m+=\u001b[0m \u001b[0mself\u001b[0m\u001b[0;34m.\u001b[0m\u001b[0m_stream\u001b[0m\u001b[0;34m.\u001b[0m\u001b[0mread\u001b[0m\u001b[0;34m(\u001b[0m\u001b[0mself\u001b[0m\u001b[0;34m.\u001b[0m\u001b[0m_chunk_size\u001b[0m\u001b[0;34m)\u001b[0m\u001b[0;34m\u001b[0m\u001b[0;34m\u001b[0m\u001b[0m\n\u001b[0m\u001b[1;32m    182\u001b[0m         \u001b[0;32mreturn\u001b[0m \u001b[0msix\u001b[0m\u001b[0;34m.\u001b[0m\u001b[0mb\u001b[0m\u001b[0;34m(\u001b[0m\u001b[0;34m''\u001b[0m\u001b[0;34m)\u001b[0m\u001b[0;34m\u001b[0m\u001b[0;34m\u001b[0m\u001b[0m\n\u001b[1;32m    183\u001b[0m \u001b[0;34m\u001b[0m\u001b[0m\n",
      "\u001b[0;32m/opt/conda/lib/python3.6/site-packages/urllib3/response.py\u001b[0m in \u001b[0;36mread\u001b[0;34m(self, amt, decode_content, cache_content)\u001b[0m\n\u001b[1;32m    440\u001b[0m             \u001b[0;32melse\u001b[0m\u001b[0;34m:\u001b[0m\u001b[0;34m\u001b[0m\u001b[0;34m\u001b[0m\u001b[0m\n\u001b[1;32m    441\u001b[0m                 \u001b[0mcache_content\u001b[0m \u001b[0;34m=\u001b[0m \u001b[0;32mFalse\u001b[0m\u001b[0;34m\u001b[0m\u001b[0;34m\u001b[0m\u001b[0m\n\u001b[0;32m--> 442\u001b[0;31m                 \u001b[0mdata\u001b[0m \u001b[0;34m=\u001b[0m \u001b[0mself\u001b[0m\u001b[0;34m.\u001b[0m\u001b[0m_fp\u001b[0m\u001b[0;34m.\u001b[0m\u001b[0mread\u001b[0m\u001b[0;34m(\u001b[0m\u001b[0mamt\u001b[0m\u001b[0;34m)\u001b[0m\u001b[0;34m\u001b[0m\u001b[0;34m\u001b[0m\u001b[0m\n\u001b[0m\u001b[1;32m    443\u001b[0m                 \u001b[0;32mif\u001b[0m \u001b[0mamt\u001b[0m \u001b[0;34m!=\u001b[0m \u001b[0;36m0\u001b[0m \u001b[0;32mand\u001b[0m \u001b[0;32mnot\u001b[0m \u001b[0mdata\u001b[0m\u001b[0;34m:\u001b[0m  \u001b[0;31m# Platform-specific: Buggy versions of Python.\u001b[0m\u001b[0;34m\u001b[0m\u001b[0;34m\u001b[0m\u001b[0m\n\u001b[1;32m    444\u001b[0m                     \u001b[0;31m# Close the connection when no data is returned\u001b[0m\u001b[0;34m\u001b[0m\u001b[0;34m\u001b[0m\u001b[0;34m\u001b[0m\u001b[0m\n",
      "\u001b[0;32m/opt/conda/lib/python3.6/http/client.py\u001b[0m in \u001b[0;36mread\u001b[0;34m(self, amt)\u001b[0m\n\u001b[1;32m    447\u001b[0m             \u001b[0;31m# Amount is given, implement using readinto\u001b[0m\u001b[0;34m\u001b[0m\u001b[0;34m\u001b[0m\u001b[0;34m\u001b[0m\u001b[0m\n\u001b[1;32m    448\u001b[0m             \u001b[0mb\u001b[0m \u001b[0;34m=\u001b[0m \u001b[0mbytearray\u001b[0m\u001b[0;34m(\u001b[0m\u001b[0mamt\u001b[0m\u001b[0;34m)\u001b[0m\u001b[0;34m\u001b[0m\u001b[0;34m\u001b[0m\u001b[0m\n\u001b[0;32m--> 449\u001b[0;31m             \u001b[0mn\u001b[0m \u001b[0;34m=\u001b[0m \u001b[0mself\u001b[0m\u001b[0;34m.\u001b[0m\u001b[0mreadinto\u001b[0m\u001b[0;34m(\u001b[0m\u001b[0mb\u001b[0m\u001b[0;34m)\u001b[0m\u001b[0;34m\u001b[0m\u001b[0;34m\u001b[0m\u001b[0m\n\u001b[0m\u001b[1;32m    450\u001b[0m             \u001b[0;32mreturn\u001b[0m \u001b[0mmemoryview\u001b[0m\u001b[0;34m(\u001b[0m\u001b[0mb\u001b[0m\u001b[0;34m)\u001b[0m\u001b[0;34m[\u001b[0m\u001b[0;34m:\u001b[0m\u001b[0mn\u001b[0m\u001b[0;34m]\u001b[0m\u001b[0;34m.\u001b[0m\u001b[0mtobytes\u001b[0m\u001b[0;34m(\u001b[0m\u001b[0;34m)\u001b[0m\u001b[0;34m\u001b[0m\u001b[0;34m\u001b[0m\u001b[0m\n\u001b[1;32m    451\u001b[0m         \u001b[0;32melse\u001b[0m\u001b[0;34m:\u001b[0m\u001b[0;34m\u001b[0m\u001b[0;34m\u001b[0m\u001b[0m\n",
      "\u001b[0;32m/opt/conda/lib/python3.6/http/client.py\u001b[0m in \u001b[0;36mreadinto\u001b[0;34m(self, b)\u001b[0m\n\u001b[1;32m    481\u001b[0m \u001b[0;34m\u001b[0m\u001b[0m\n\u001b[1;32m    482\u001b[0m         \u001b[0;32mif\u001b[0m \u001b[0mself\u001b[0m\u001b[0;34m.\u001b[0m\u001b[0mchunked\u001b[0m\u001b[0;34m:\u001b[0m\u001b[0;34m\u001b[0m\u001b[0;34m\u001b[0m\u001b[0m\n\u001b[0;32m--> 483\u001b[0;31m             \u001b[0;32mreturn\u001b[0m \u001b[0mself\u001b[0m\u001b[0;34m.\u001b[0m\u001b[0m_readinto_chunked\u001b[0m\u001b[0;34m(\u001b[0m\u001b[0mb\u001b[0m\u001b[0;34m)\u001b[0m\u001b[0;34m\u001b[0m\u001b[0;34m\u001b[0m\u001b[0m\n\u001b[0m\u001b[1;32m    484\u001b[0m \u001b[0;34m\u001b[0m\u001b[0m\n\u001b[1;32m    485\u001b[0m         \u001b[0;32mif\u001b[0m \u001b[0mself\u001b[0m\u001b[0;34m.\u001b[0m\u001b[0mlength\u001b[0m \u001b[0;32mis\u001b[0m \u001b[0;32mnot\u001b[0m \u001b[0;32mNone\u001b[0m\u001b[0;34m:\u001b[0m\u001b[0;34m\u001b[0m\u001b[0;34m\u001b[0m\u001b[0m\n",
      "\u001b[0;32m/opt/conda/lib/python3.6/http/client.py\u001b[0m in \u001b[0;36m_readinto_chunked\u001b[0;34m(self, b)\u001b[0m\n\u001b[1;32m    576\u001b[0m         \u001b[0;32mtry\u001b[0m\u001b[0;34m:\u001b[0m\u001b[0;34m\u001b[0m\u001b[0;34m\u001b[0m\u001b[0m\n\u001b[1;32m    577\u001b[0m             \u001b[0;32mwhile\u001b[0m \u001b[0;32mTrue\u001b[0m\u001b[0;34m:\u001b[0m\u001b[0;34m\u001b[0m\u001b[0;34m\u001b[0m\u001b[0m\n\u001b[0;32m--> 578\u001b[0;31m                 \u001b[0mchunk_left\u001b[0m \u001b[0;34m=\u001b[0m \u001b[0mself\u001b[0m\u001b[0;34m.\u001b[0m\u001b[0m_get_chunk_left\u001b[0m\u001b[0;34m(\u001b[0m\u001b[0;34m)\u001b[0m\u001b[0;34m\u001b[0m\u001b[0;34m\u001b[0m\u001b[0m\n\u001b[0m\u001b[1;32m    579\u001b[0m                 \u001b[0;32mif\u001b[0m \u001b[0mchunk_left\u001b[0m \u001b[0;32mis\u001b[0m \u001b[0;32mNone\u001b[0m\u001b[0;34m:\u001b[0m\u001b[0;34m\u001b[0m\u001b[0;34m\u001b[0m\u001b[0m\n\u001b[1;32m    580\u001b[0m                     \u001b[0;32mreturn\u001b[0m \u001b[0mtotal_bytes\u001b[0m\u001b[0;34m\u001b[0m\u001b[0;34m\u001b[0m\u001b[0m\n",
      "\u001b[0;32m/opt/conda/lib/python3.6/http/client.py\u001b[0m in \u001b[0;36m_get_chunk_left\u001b[0;34m(self)\u001b[0m\n\u001b[1;32m    544\u001b[0m                 \u001b[0mself\u001b[0m\u001b[0;34m.\u001b[0m\u001b[0m_safe_read\u001b[0m\u001b[0;34m(\u001b[0m\u001b[0;36m2\u001b[0m\u001b[0;34m)\u001b[0m  \u001b[0;31m# toss the CRLF at the end of the chunk\u001b[0m\u001b[0;34m\u001b[0m\u001b[0;34m\u001b[0m\u001b[0m\n\u001b[1;32m    545\u001b[0m             \u001b[0;32mtry\u001b[0m\u001b[0;34m:\u001b[0m\u001b[0;34m\u001b[0m\u001b[0;34m\u001b[0m\u001b[0m\n\u001b[0;32m--> 546\u001b[0;31m                 \u001b[0mchunk_left\u001b[0m \u001b[0;34m=\u001b[0m \u001b[0mself\u001b[0m\u001b[0;34m.\u001b[0m\u001b[0m_read_next_chunk_size\u001b[0m\u001b[0;34m(\u001b[0m\u001b[0;34m)\u001b[0m\u001b[0;34m\u001b[0m\u001b[0;34m\u001b[0m\u001b[0m\n\u001b[0m\u001b[1;32m    547\u001b[0m             \u001b[0;32mexcept\u001b[0m \u001b[0mValueError\u001b[0m\u001b[0;34m:\u001b[0m\u001b[0;34m\u001b[0m\u001b[0;34m\u001b[0m\u001b[0m\n\u001b[1;32m    548\u001b[0m                 \u001b[0;32mraise\u001b[0m \u001b[0mIncompleteRead\u001b[0m\u001b[0;34m(\u001b[0m\u001b[0;34mb''\u001b[0m\u001b[0;34m)\u001b[0m\u001b[0;34m\u001b[0m\u001b[0;34m\u001b[0m\u001b[0m\n",
      "\u001b[0;32m/opt/conda/lib/python3.6/http/client.py\u001b[0m in \u001b[0;36m_read_next_chunk_size\u001b[0;34m(self)\u001b[0m\n\u001b[1;32m    504\u001b[0m     \u001b[0;32mdef\u001b[0m \u001b[0m_read_next_chunk_size\u001b[0m\u001b[0;34m(\u001b[0m\u001b[0mself\u001b[0m\u001b[0;34m)\u001b[0m\u001b[0;34m:\u001b[0m\u001b[0;34m\u001b[0m\u001b[0;34m\u001b[0m\u001b[0m\n\u001b[1;32m    505\u001b[0m         \u001b[0;31m# Read the next chunk size from the file\u001b[0m\u001b[0;34m\u001b[0m\u001b[0;34m\u001b[0m\u001b[0;34m\u001b[0m\u001b[0m\n\u001b[0;32m--> 506\u001b[0;31m         \u001b[0mline\u001b[0m \u001b[0;34m=\u001b[0m \u001b[0mself\u001b[0m\u001b[0;34m.\u001b[0m\u001b[0mfp\u001b[0m\u001b[0;34m.\u001b[0m\u001b[0mreadline\u001b[0m\u001b[0;34m(\u001b[0m\u001b[0m_MAXLINE\u001b[0m \u001b[0;34m+\u001b[0m \u001b[0;36m1\u001b[0m\u001b[0;34m)\u001b[0m\u001b[0;34m\u001b[0m\u001b[0;34m\u001b[0m\u001b[0m\n\u001b[0m\u001b[1;32m    507\u001b[0m         \u001b[0;32mif\u001b[0m \u001b[0mlen\u001b[0m\u001b[0;34m(\u001b[0m\u001b[0mline\u001b[0m\u001b[0;34m)\u001b[0m \u001b[0;34m>\u001b[0m \u001b[0m_MAXLINE\u001b[0m\u001b[0;34m:\u001b[0m\u001b[0;34m\u001b[0m\u001b[0;34m\u001b[0m\u001b[0m\n\u001b[1;32m    508\u001b[0m             \u001b[0;32mraise\u001b[0m \u001b[0mLineTooLong\u001b[0m\u001b[0;34m(\u001b[0m\u001b[0;34m\"chunk size\"\u001b[0m\u001b[0;34m)\u001b[0m\u001b[0;34m\u001b[0m\u001b[0;34m\u001b[0m\u001b[0m\n",
      "\u001b[0;32m/opt/conda/lib/python3.6/socket.py\u001b[0m in \u001b[0;36mreadinto\u001b[0;34m(self, b)\u001b[0m\n\u001b[1;32m    584\u001b[0m         \u001b[0;32mwhile\u001b[0m \u001b[0;32mTrue\u001b[0m\u001b[0;34m:\u001b[0m\u001b[0;34m\u001b[0m\u001b[0;34m\u001b[0m\u001b[0m\n\u001b[1;32m    585\u001b[0m             \u001b[0;32mtry\u001b[0m\u001b[0;34m:\u001b[0m\u001b[0;34m\u001b[0m\u001b[0;34m\u001b[0m\u001b[0m\n\u001b[0;32m--> 586\u001b[0;31m                 \u001b[0;32mreturn\u001b[0m \u001b[0mself\u001b[0m\u001b[0;34m.\u001b[0m\u001b[0m_sock\u001b[0m\u001b[0;34m.\u001b[0m\u001b[0mrecv_into\u001b[0m\u001b[0;34m(\u001b[0m\u001b[0mb\u001b[0m\u001b[0;34m)\u001b[0m\u001b[0;34m\u001b[0m\u001b[0;34m\u001b[0m\u001b[0m\n\u001b[0m\u001b[1;32m    587\u001b[0m             \u001b[0;32mexcept\u001b[0m \u001b[0mtimeout\u001b[0m\u001b[0;34m:\u001b[0m\u001b[0;34m\u001b[0m\u001b[0;34m\u001b[0m\u001b[0m\n\u001b[1;32m    588\u001b[0m                 \u001b[0mself\u001b[0m\u001b[0;34m.\u001b[0m\u001b[0m_timeout_occurred\u001b[0m \u001b[0;34m=\u001b[0m \u001b[0;32mTrue\u001b[0m\u001b[0;34m\u001b[0m\u001b[0;34m\u001b[0m\u001b[0m\n",
      "\u001b[0;32m/opt/conda/lib/python3.6/site-packages/urllib3/contrib/pyopenssl.py\u001b[0m in \u001b[0;36mrecv_into\u001b[0;34m(self, *args, **kwargs)\u001b[0m\n\u001b[1;32m    304\u001b[0m                 \u001b[0;32mraise\u001b[0m\u001b[0;34m\u001b[0m\u001b[0;34m\u001b[0m\u001b[0m\n\u001b[1;32m    305\u001b[0m         \u001b[0;32mexcept\u001b[0m \u001b[0mOpenSSL\u001b[0m\u001b[0;34m.\u001b[0m\u001b[0mSSL\u001b[0m\u001b[0;34m.\u001b[0m\u001b[0mWantReadError\u001b[0m\u001b[0;34m:\u001b[0m\u001b[0;34m\u001b[0m\u001b[0;34m\u001b[0m\u001b[0m\n\u001b[0;32m--> 306\u001b[0;31m             \u001b[0;32mif\u001b[0m \u001b[0;32mnot\u001b[0m \u001b[0mutil\u001b[0m\u001b[0;34m.\u001b[0m\u001b[0mwait_for_read\u001b[0m\u001b[0;34m(\u001b[0m\u001b[0mself\u001b[0m\u001b[0;34m.\u001b[0m\u001b[0msocket\u001b[0m\u001b[0;34m,\u001b[0m \u001b[0mself\u001b[0m\u001b[0;34m.\u001b[0m\u001b[0msocket\u001b[0m\u001b[0;34m.\u001b[0m\u001b[0mgettimeout\u001b[0m\u001b[0;34m(\u001b[0m\u001b[0;34m)\u001b[0m\u001b[0;34m)\u001b[0m\u001b[0;34m:\u001b[0m\u001b[0;34m\u001b[0m\u001b[0;34m\u001b[0m\u001b[0m\n\u001b[0m\u001b[1;32m    307\u001b[0m                 \u001b[0;32mraise\u001b[0m \u001b[0mtimeout\u001b[0m\u001b[0;34m(\u001b[0m\u001b[0;34m'The read operation timed out'\u001b[0m\u001b[0;34m)\u001b[0m\u001b[0;34m\u001b[0m\u001b[0;34m\u001b[0m\u001b[0m\n\u001b[1;32m    308\u001b[0m             \u001b[0;32melse\u001b[0m\u001b[0;34m:\u001b[0m\u001b[0;34m\u001b[0m\u001b[0;34m\u001b[0m\u001b[0m\n",
      "\u001b[0;32m/opt/conda/lib/python3.6/site-packages/urllib3/util/wait.py\u001b[0m in \u001b[0;36mwait_for_read\u001b[0;34m(sock, timeout)\u001b[0m\n\u001b[1;32m    141\u001b[0m     \u001b[0mReturns\u001b[0m \u001b[0;32mTrue\u001b[0m \u001b[0;32mif\u001b[0m \u001b[0mthe\u001b[0m \u001b[0msocket\u001b[0m \u001b[0;32mis\u001b[0m \u001b[0mreadable\u001b[0m\u001b[0;34m,\u001b[0m \u001b[0;32mor\u001b[0m \u001b[0;32mFalse\u001b[0m \u001b[0;32mif\u001b[0m \u001b[0mthe\u001b[0m \u001b[0mtimeout\u001b[0m \u001b[0mexpired\u001b[0m\u001b[0;34m.\u001b[0m\u001b[0;34m\u001b[0m\u001b[0;34m\u001b[0m\u001b[0m\n\u001b[1;32m    142\u001b[0m     \"\"\"\n\u001b[0;32m--> 143\u001b[0;31m     \u001b[0;32mreturn\u001b[0m \u001b[0mwait_for_socket\u001b[0m\u001b[0;34m(\u001b[0m\u001b[0msock\u001b[0m\u001b[0;34m,\u001b[0m \u001b[0mread\u001b[0m\u001b[0;34m=\u001b[0m\u001b[0;32mTrue\u001b[0m\u001b[0;34m,\u001b[0m \u001b[0mtimeout\u001b[0m\u001b[0;34m=\u001b[0m\u001b[0mtimeout\u001b[0m\u001b[0;34m)\u001b[0m\u001b[0;34m\u001b[0m\u001b[0;34m\u001b[0m\u001b[0m\n\u001b[0m\u001b[1;32m    144\u001b[0m \u001b[0;34m\u001b[0m\u001b[0m\n\u001b[1;32m    145\u001b[0m \u001b[0;34m\u001b[0m\u001b[0m\n",
      "\u001b[0;32m/opt/conda/lib/python3.6/site-packages/urllib3/util/wait.py\u001b[0m in \u001b[0;36mpoll_wait_for_socket\u001b[0;34m(sock, read, write, timeout)\u001b[0m\n\u001b[1;32m    102\u001b[0m         \u001b[0;32mreturn\u001b[0m \u001b[0mpoll_obj\u001b[0m\u001b[0;34m.\u001b[0m\u001b[0mpoll\u001b[0m\u001b[0;34m(\u001b[0m\u001b[0mt\u001b[0m\u001b[0;34m)\u001b[0m\u001b[0;34m\u001b[0m\u001b[0;34m\u001b[0m\u001b[0m\n\u001b[1;32m    103\u001b[0m \u001b[0;34m\u001b[0m\u001b[0m\n\u001b[0;32m--> 104\u001b[0;31m     \u001b[0;32mreturn\u001b[0m \u001b[0mbool\u001b[0m\u001b[0;34m(\u001b[0m\u001b[0m_retry_on_intr\u001b[0m\u001b[0;34m(\u001b[0m\u001b[0mdo_poll\u001b[0m\u001b[0;34m,\u001b[0m \u001b[0mtimeout\u001b[0m\u001b[0;34m)\u001b[0m\u001b[0;34m)\u001b[0m\u001b[0;34m\u001b[0m\u001b[0;34m\u001b[0m\u001b[0m\n\u001b[0m\u001b[1;32m    105\u001b[0m \u001b[0;34m\u001b[0m\u001b[0m\n\u001b[1;32m    106\u001b[0m \u001b[0;34m\u001b[0m\u001b[0m\n",
      "\u001b[0;32m/opt/conda/lib/python3.6/site-packages/urllib3/util/wait.py\u001b[0m in \u001b[0;36m_retry_on_intr\u001b[0;34m(fn, timeout)\u001b[0m\n\u001b[1;32m     40\u001b[0m     \u001b[0;31m# Modern Python, that retries syscalls by default\u001b[0m\u001b[0;34m\u001b[0m\u001b[0;34m\u001b[0m\u001b[0;34m\u001b[0m\u001b[0m\n\u001b[1;32m     41\u001b[0m     \u001b[0;32mdef\u001b[0m \u001b[0m_retry_on_intr\u001b[0m\u001b[0;34m(\u001b[0m\u001b[0mfn\u001b[0m\u001b[0;34m,\u001b[0m \u001b[0mtimeout\u001b[0m\u001b[0;34m)\u001b[0m\u001b[0;34m:\u001b[0m\u001b[0;34m\u001b[0m\u001b[0;34m\u001b[0m\u001b[0m\n\u001b[0;32m---> 42\u001b[0;31m         \u001b[0;32mreturn\u001b[0m \u001b[0mfn\u001b[0m\u001b[0;34m(\u001b[0m\u001b[0mtimeout\u001b[0m\u001b[0;34m)\u001b[0m\u001b[0;34m\u001b[0m\u001b[0;34m\u001b[0m\u001b[0m\n\u001b[0m\u001b[1;32m     43\u001b[0m \u001b[0;32melse\u001b[0m\u001b[0;34m:\u001b[0m\u001b[0;34m\u001b[0m\u001b[0;34m\u001b[0m\u001b[0m\n\u001b[1;32m     44\u001b[0m     \u001b[0;31m# Old and broken Pythons.\u001b[0m\u001b[0;34m\u001b[0m\u001b[0;34m\u001b[0m\u001b[0;34m\u001b[0m\u001b[0m\n",
      "\u001b[0;32m/opt/conda/lib/python3.6/site-packages/urllib3/util/wait.py\u001b[0m in \u001b[0;36mdo_poll\u001b[0;34m(t)\u001b[0m\n\u001b[1;32m    100\u001b[0m         \u001b[0;32mif\u001b[0m \u001b[0mt\u001b[0m \u001b[0;32mis\u001b[0m \u001b[0;32mnot\u001b[0m \u001b[0;32mNone\u001b[0m\u001b[0;34m:\u001b[0m\u001b[0;34m\u001b[0m\u001b[0;34m\u001b[0m\u001b[0m\n\u001b[1;32m    101\u001b[0m             \u001b[0mt\u001b[0m \u001b[0;34m*=\u001b[0m \u001b[0;36m1000\u001b[0m\u001b[0;34m\u001b[0m\u001b[0;34m\u001b[0m\u001b[0m\n\u001b[0;32m--> 102\u001b[0;31m         \u001b[0;32mreturn\u001b[0m \u001b[0mpoll_obj\u001b[0m\u001b[0;34m.\u001b[0m\u001b[0mpoll\u001b[0m\u001b[0;34m(\u001b[0m\u001b[0mt\u001b[0m\u001b[0;34m)\u001b[0m\u001b[0;34m\u001b[0m\u001b[0;34m\u001b[0m\u001b[0m\n\u001b[0m\u001b[1;32m    103\u001b[0m \u001b[0;34m\u001b[0m\u001b[0m\n\u001b[1;32m    104\u001b[0m     \u001b[0;32mreturn\u001b[0m \u001b[0mbool\u001b[0m\u001b[0;34m(\u001b[0m\u001b[0m_retry_on_intr\u001b[0m\u001b[0;34m(\u001b[0m\u001b[0mdo_poll\u001b[0m\u001b[0;34m,\u001b[0m \u001b[0mtimeout\u001b[0m\u001b[0;34m)\u001b[0m\u001b[0;34m)\u001b[0m\u001b[0;34m\u001b[0m\u001b[0;34m\u001b[0m\u001b[0m\n",
      "\u001b[0;31mKeyboardInterrupt\u001b[0m: "
     ]
    }
   ],
   "source": [
    "#New York City bounding box according to Twitter Docs: -74,40,-73,41\n",
    "#https://developer.twitter.com/en/docs/tweets/filter-realtime/guides/basic-stream-parameters\n",
    "myStream.filter(locations=[-74.3,40.48,-73.7,40.93])"
   ]
  },
  {
   "cell_type": "code",
   "execution_count": 61,
   "metadata": {},
   "outputs": [
    {
     "data": {
      "text/plain": [
       "{'created_at': 'Mon Mar 04 22:57:20 +0000 2019',\n",
       " 'id': 1102704606142971904,\n",
       " 'id_str': '1102704606142971904',\n",
       " 'text': '@nypost As if anyone would waste our cheese 🤷\\u200d♀️',\n",
       " 'display_text_range': [8, 48],\n",
       " 'source': '<a href=\"http://twitter.com\" rel=\"nofollow\">Twitter Web Client</a>',\n",
       " 'truncated': False,\n",
       " 'in_reply_to_status_id': 1101569457137377286,\n",
       " 'in_reply_to_status_id_str': '1101569457137377286',\n",
       " 'in_reply_to_user_id': 17469289,\n",
       " 'in_reply_to_user_id_str': '17469289',\n",
       " 'in_reply_to_screen_name': 'nypost',\n",
       " 'user': {'id': 323919952,\n",
       "  'id_str': '323919952',\n",
       "  'name': 'Cibao Meat Products',\n",
       "  'screen_name': 'CibaoMeatProd',\n",
       "  'location': 'Bronx, NY',\n",
       "  'url': 'http://cibaomeat.com',\n",
       "  'description': 'The tradition of quality, the taste of excellence. #CibaoCravings',\n",
       "  'translator_type': 'none',\n",
       "  'protected': False,\n",
       "  'verified': False,\n",
       "  'followers_count': 210,\n",
       "  'friends_count': 145,\n",
       "  'listed_count': 6,\n",
       "  'favourites_count': 132,\n",
       "  'statuses_count': 1249,\n",
       "  'created_at': 'Sat Jun 25 17:23:08 +0000 2011',\n",
       "  'utc_offset': None,\n",
       "  'time_zone': None,\n",
       "  'geo_enabled': True,\n",
       "  'lang': 'en',\n",
       "  'contributors_enabled': False,\n",
       "  'is_translator': False,\n",
       "  'profile_background_color': '000000',\n",
       "  'profile_background_image_url': 'http://abs.twimg.com/images/themes/theme1/bg.png',\n",
       "  'profile_background_image_url_https': 'https://abs.twimg.com/images/themes/theme1/bg.png',\n",
       "  'profile_background_tile': False,\n",
       "  'profile_link_color': 'FF0000',\n",
       "  'profile_sidebar_border_color': 'FFFFFF',\n",
       "  'profile_sidebar_fill_color': 'DDEEF6',\n",
       "  'profile_text_color': '333333',\n",
       "  'profile_use_background_image': True,\n",
       "  'profile_image_url': 'http://pbs.twimg.com/profile_images/1101165714633830401/XJB7f_lL_normal.jpg',\n",
       "  'profile_image_url_https': 'https://pbs.twimg.com/profile_images/1101165714633830401/XJB7f_lL_normal.jpg',\n",
       "  'profile_banner_url': 'https://pbs.twimg.com/profile_banners/323919952/1503070052',\n",
       "  'default_profile': False,\n",
       "  'default_profile_image': False,\n",
       "  'following': None,\n",
       "  'follow_request_sent': None,\n",
       "  'notifications': None},\n",
       " 'geo': None,\n",
       " 'coordinates': {'type': 'Point',\n",
       "  'coordinates': (-73.94774706298404, 40.80502638818371)},\n",
       " 'place': {'id': '27485069891a7938',\n",
       "  'url': 'https://api.twitter.com/1.1/geo/id/27485069891a7938.json',\n",
       "  'place_type': 'admin',\n",
       "  'name': 'New York',\n",
       "  'full_name': 'New York, NY',\n",
       "  'country_code': 'US',\n",
       "  'country': 'United States',\n",
       "  'bounding_box': {'type': 'Polygon',\n",
       "   'coordinates': [[[-74.255641, 40.495865],\n",
       "     [-74.255641, 40.91533],\n",
       "     [-73.699793, 40.91533],\n",
       "     [-73.699793, 40.495865]]]},\n",
       "  'attributes': {}},\n",
       " 'contributors': None,\n",
       " 'is_quote_status': False,\n",
       " 'quote_count': 0,\n",
       " 'reply_count': 0,\n",
       " 'retweet_count': 0,\n",
       " 'favorite_count': 0,\n",
       " 'entities': {'hashtags': [],\n",
       "  'urls': [],\n",
       "  'user_mentions': [{'screen_name': 'nypost',\n",
       "    'name': 'New York Post',\n",
       "    'id': 17469289,\n",
       "    'id_str': '17469289',\n",
       "    'indices': [0, 7]}],\n",
       "  'symbols': []},\n",
       " 'favorited': False,\n",
       " 'retweeted': False,\n",
       " 'filter_level': 'low',\n",
       " 'lang': 'en',\n",
       " 'timestamp_ms': '1551740240022',\n",
       " 'geo_source': 'Randomized',\n",
       " 'borough': 'Manhattan'}"
      ]
     },
     "execution_count": 61,
     "metadata": {},
     "output_type": "execute_result"
    }
   ],
   "source": [
    "allTweets[-1]"
   ]
  },
  {
   "cell_type": "code",
   "execution_count": 62,
   "metadata": {},
   "outputs": [
    {
     "data": {
      "text/plain": [
       "1783"
      ]
     },
     "execution_count": 62,
     "metadata": {},
     "output_type": "execute_result"
    }
   ],
   "source": [
    "len(list((filter(lambda x: x is not None, map(lambda x: x['in_reply_to_status_id'], allTweets)))))"
   ]
  },
  {
   "cell_type": "code",
   "execution_count": 63,
   "metadata": {},
   "outputs": [
    {
     "data": {
      "text/plain": [
       "769"
      ]
     },
     "execution_count": 63,
     "metadata": {},
     "output_type": "execute_result"
    }
   ],
   "source": [
    "len(list((filter(lambda x: x, map(lambda x: x['is_quote_status'], allTweets)))))"
   ]
  },
  {
   "cell_type": "code",
   "execution_count": 64,
   "metadata": {},
   "outputs": [
    {
     "data": {
      "text/plain": [
       "0"
      ]
     },
     "execution_count": 64,
     "metadata": {},
     "output_type": "execute_result"
    }
   ],
   "source": [
    "len(list((filter(lambda x: x, map(lambda x: x.get('retweeted_status',False), allTweets)))))"
   ]
  },
  {
   "cell_type": "code",
   "execution_count": 70,
   "metadata": {},
   "outputs": [
    {
     "data": {
      "text/plain": [
       "{('admin', 'NEW YORK', 'b6c2e04f1673337f'),\n",
       " ('admin', 'New Jersey, USA', '65b4760a2b411e11'),\n",
       " ('admin', 'New York, NY', '27485069891a7938'),\n",
       " ('admin', 'New York, USA', '94965b2c45386f87'),\n",
       " ('admin', 'Nova Iorque, USA', '94965b2c45386f87'),\n",
       " ('admin', 'Nueva York, USA', '94965b2c45386f87'),\n",
       " ('city', 'Bayonne, NJ', '3d3c56338b6a3b4a'),\n",
       " ('city', 'Belleville, NJ', 'a227c629b631eea2'),\n",
       " ('city', 'Bergenfield, NJ', '980e30571d9d5f5d'),\n",
       " ('city', 'Bloomfield, NJ', 'dc4ad595a56393ac'),\n",
       " ('city', 'Bronx, NY', '002e24c6736f069d'),\n",
       " ('city', 'Brooklyn, NY', '011add077f4d2da3'),\n",
       " ('city', 'Caldwell, NJ', '8739d0bab792509d'),\n",
       " ('city', 'Carlstadt, NJ', 'fb3c12bc62543193'),\n",
       " ('city', 'Carteret, NJ', '71177291f1601de3'),\n",
       " ('city', 'Cedar Grove, NJ', 'f1a993cc8833f408'),\n",
       " ('city', 'Cedarhurst, NY', '15bb646d59ef405f'),\n",
       " ('city', 'Clark, NJ', '88c45dc6118d88a2'),\n",
       " ('city', 'Cliffside Park, NJ', 'ebbd168611073cb8'),\n",
       " ('city', 'Clifton, NJ', '7356b662670b2c31'),\n",
       " ('city', 'Colonia, NJ', 'dfa88de1ece1a505'),\n",
       " ('city', 'Cranford, NJ', 'de7b13455f6b23f3'),\n",
       " ('city', 'Cresskill, NJ', '14d72cc270996051'),\n",
       " ('city', 'East Orange, NJ', '858cec499f8adba6'),\n",
       " ('city', 'East Rutherford, NJ', 'df14cd4d61b8e457'),\n",
       " ('city', 'Eastchester, NY', '18723789f00c54fe'),\n",
       " ('city', 'Edgewater, NJ', '53c4c0f31bd9e72b'),\n",
       " ('city', 'Elizabeth, NJ', 'b74cebcb62a1a686'),\n",
       " ('city', 'Elmont, NY', 'bf83670d90b7f0bc'),\n",
       " ('city', 'Elmwood Park, NJ', 'b2739f396d871412'),\n",
       " ('city', 'Englewood, NJ', '65e3a577f1940550'),\n",
       " ('city', 'Fair Lawn, NJ', 'd9da081322efe6e7'),\n",
       " ('city', 'Fairview, NJ', 'd7ce64e73b86c6f0'),\n",
       " ('city', 'Floral Park, NY', '82a4f68b3d515bec'),\n",
       " ('city', 'Fort Lee, NJ', '609b31e0a50b4474'),\n",
       " ('city', 'Garfield, NJ', '86fc60f26e1639cc'),\n",
       " ('city', 'Glen Ridge, NJ', 'c4dab45ef7581417'),\n",
       " ('city', 'Guttenberg, NJ', 'b6f395ab4c5d530d'),\n",
       " ('city', 'Hackensack, NJ', 'a64b09ad02cb5c61'),\n",
       " ('city', 'Harrison, NJ', '75ba1d57eca49b3f'),\n",
       " ('city', 'Hewlett, NY', '3160c49aee2a7325'),\n",
       " ('city', 'Hillside, NJ', 'e993aa6b2023e210'),\n",
       " ('city', 'Hoboken, NJ', 'e9143a85705b4d40'),\n",
       " ('city', 'Inwood, NY', 'edd2aa964fa61ec9'),\n",
       " ('city', 'Irvington, NJ', '926fea31818e07d2'),\n",
       " ('city', 'Iselin, NJ', '812a6cfdd31b4a5f'),\n",
       " ('city', 'Jersey City, NJ', 'b046074b1030a44d'),\n",
       " ('city', 'Kearny, NJ', 'd5140ca0d08eadc7'),\n",
       " ('city', 'Kenilworth, NJ', '785688d0e8db37d9'),\n",
       " ('city', 'Larchmont, NY', 'fcf9c4a5d1459acd'),\n",
       " ('city', 'Lawrence, NY', 'e49c3e7bd8c1bc7a'),\n",
       " ('city', 'Linden, NJ', 'b8d145028b2571ac'),\n",
       " ('city', 'Little Falls, NJ', '51b45b88191c1a6e'),\n",
       " ('city', 'Little Ferry, NJ', 'eee6d4242f7819c2'),\n",
       " ('city', 'Livingston, NJ', '24661d47b426cdac'),\n",
       " ('city', 'Lodi, NJ', 'cd13d7c07e4e78e7'),\n",
       " ('city', 'Long Beach, NY', '876ed0bcf9594134'),\n",
       " ('city', 'Lyndhurst, NJ', '4a4c49cb161a4eb9'),\n",
       " ('city', 'Mamaroneck, NY', '000829b517fc66b2'),\n",
       " ('city', 'Manhasset, NY', 'a6953c8c4e525219'),\n",
       " ('city', 'Manhattan, NY', '01a9a39529b27f36'),\n",
       " ('city', 'Manorhaven, NY', 'e82acd26e97baba0'),\n",
       " ('city', 'Maplewood, NJ', 'c8cc2f5f5fe306fa'),\n",
       " ('city', 'Millburn, NJ', '1935ab8020a2553b'),\n",
       " ('city', 'Montclair, NJ', 'bceb8153865c4a49'),\n",
       " ('city', 'Moonachie, NJ', '4244555da048ffbf'),\n",
       " ('city', 'Mount Vernon, NY', '44453d2ae8e47fd5'),\n",
       " ('city', 'New Rochelle, NY', '11cdb607ab2f17bb'),\n",
       " ('city', 'Newark, NJ', 'fa3435044b52ecc7'),\n",
       " ('city', 'North Arlington, NJ', 'a40210251b0f4e37'),\n",
       " ('city', 'North Bergen, NJ', '00ca6959663f6d44'),\n",
       " ('city', 'North Caldwell, NJ', 'feeedc712bc26185'),\n",
       " ('city', 'North Hills, NY', 'bf6a6acf171688bd'),\n",
       " ('city', 'North New Hyde Park, NY', '96af18411a813391'),\n",
       " ('city', 'North Valley Stream, NY', 'cdc37bae2a45fc33'),\n",
       " ('city', 'Nutley, NJ', '1e87657b94063b58'),\n",
       " ('city', 'Orange, NJ', '559cf1d51980ff42'),\n",
       " ('city', 'Palisades Park, NJ', 'ab4dbe09b6acaacb'),\n",
       " ('city', 'Paramus, NJ', '4b6a1f748c5219fa'),\n",
       " ('city', 'Passaic, NJ', '22bb8afe3a5531fd'),\n",
       " ('city', 'Paterson, NJ', '23a06e5cc6d83009'),\n",
       " ('city', 'Pelham Manor, NY', '3be6e3e32603c621'),\n",
       " ('city', 'Perth Amboy, NJ', '6813a7d84bf141d5'),\n",
       " ('city', 'Port Washington North, NY', '3ea783455fb3150b'),\n",
       " ('city', 'Port Washington, NY', 'cbafaaf6455dea32'),\n",
       " ('city', 'Queens, NY', '00c39537733fa112'),\n",
       " ('city', 'Rahway, NJ', '9d22866e11c9b6b7'),\n",
       " ('city', 'Rochelle Park, NJ', '3018f1dc6d7d4c26'),\n",
       " ('city', 'Roselle Park, NJ', 'bcab414422facfa5'),\n",
       " ('city', 'Rutherford, NJ', '25d1ef4322ba8e3c'),\n",
       " ('city', 'Saddle Brook, NJ', '4788f93db732fe58'),\n",
       " ('city', 'Sayreville, NJ', '7c09539af94ab80b'),\n",
       " ('city', 'Secaucus, NJ', 'c5e2e95296cb121d'),\n",
       " ('city', 'Sewaren, NJ', 'e70308ba655201a4'),\n",
       " ('city', 'South Hackensack, NJ', '7adc1fbe4ee2acd1'),\n",
       " ('city', 'South Orange, NJ', '7329ff8dbdf5bc00'),\n",
       " ('city', 'Springfield, NJ', 'c418b0c82daabc44'),\n",
       " ('city', 'Staten Island, NY', '00c55f041e27dc51'),\n",
       " ('city', 'Teaneck, NJ', '8279f00eacbd9f3b'),\n",
       " ('city', 'Tenafly, NJ', 'fa9e955670752b3c'),\n",
       " ('city', 'Teterboro, NJ', 'f78118884b101a8b'),\n",
       " ('city', 'Union City, NJ', 'b46619b2722d9703'),\n",
       " ('city', 'Union, NJ', 'e4faa50d904ab815'),\n",
       " ('city', 'Valley Stream, NY', 'a6bb3ed9f8ccb4a2'),\n",
       " ('city', 'Verona, NJ', '5d09360434c9b510'),\n",
       " ('city', 'Wallington, NJ', 'def44d7d147e501a'),\n",
       " ('city', 'Wayne, NJ', '5a700e3c73cbf9b9'),\n",
       " ('city', 'Weehawken, NJ', '01a19311427f5f07'),\n",
       " ('city', 'West New York, NJ', '8479859139338fb7'),\n",
       " ('city', 'West Orange, NJ', '96ddfc4bf2f1a80c'),\n",
       " ('city', 'Yonkers, NY', 'b87b05856ab8dbd8'),\n",
       " ('neighborhood', 'Battery Park City, Manhattan', '2faa12d07fdfdbc6'),\n",
       " ('neighborhood', 'Central Park, Manhattan', '789dde4e047e6079'),\n",
       " ('neighborhood', 'East Village, Manhattan', '5426d7cf98cf4bd4'),\n",
       " ('neighborhood', 'Long Island City, Queens', '31bc0e9390117b6f'),\n",
       " ('neighborhood', 'NoLIta, Manhattan', '7a8264e499a871d9'),\n",
       " ('neighborhood', 'SoHo, Manhattan', '2597f2b91a5fcdb1'),\n",
       " ('neighborhood', 'Times Square, Manhattan', '2ab7a7d1f941d091'),\n",
       " ('neighborhood', 'Upper West Side, Manhattan', '7d8c822c87fb44a2'),\n",
       " ('neighborhood', 'West Village, Manhattan', '23c1c5769cf6b42b'),\n",
       " ('neighborhood', 'Williamsburg, Brooklyn', '44a318d96cbc9871'),\n",
       " ('none', 'none', 'none'),\n",
       " ('poi', '54 Below', '07d9f04da6880003'),\n",
       " ('poi', '7 World Trade Center', '07d9d2186f888000'),\n",
       " ('poi', 'Advertising Research Foundation (ARF)', '07d9ec863c081000'),\n",
       " ('poi', 'AgTech X', '0ea344213594c000'),\n",
       " ('poi', 'American Museum of Natural History', '07d9ec8748486003'),\n",
       " ('poi', 'Atlantic Social Club', '0b3426fc7b954000'),\n",
       " ('poi', 'Barclays Center', '07d9e3ecb3c85004'),\n",
       " ('poi', 'Bedford Stuyvesant Head Start', '09576a3878d41000'),\n",
       " ('poi', 'Bethesda Fountain', '07d9c93074488000'),\n",
       " ('poi', 'Books of Wonder', '07d9c93491481000'),\n",
       " ('poi', 'Box Office at Carnegie Hall', '0eb5320e2b14f001'),\n",
       " ('poi', 'Brooklyn Bridge', '07d9f735f6c81001'),\n",
       " ('poi', 'Brooklyn Museum', '07d9ec8293c81005'),\n",
       " ('poi', 'Brooklyn Night Bazaar', '0acf1a8b74176000'),\n",
       " ('poi', 'Central Park', '07d9d21340482002'),\n",
       " ('poi', 'Central Park - Conservatory Water', '07d9e397da481000'),\n",
       " ('poi', 'Central Park – The Lake', '07d9d23c29086002'),\n",
       " ('poi', 'DTUT', '07d9f5252ec83001'),\n",
       " ('poi', 'Devils Den', '07d9ed9628c84000'),\n",
       " ('poi', 'Dodge Fitness Center @ Columbia University', '07d9d76403c81002'),\n",
       " ('poi', 'FDNY EMS Station 22', '07d9f773cd887000'),\n",
       " ('poi', 'GRAMMY Museum Experience Prudential Center', '0c4bf59200140000'),\n",
       " ('poi', 'General Society of Mechanics & Tradesmen', '07d9ecb267480000'),\n",
       " ('poi', 'Glossier', '08174bb1be572000'),\n",
       " ('poi', 'Hampton Inn - Laguardia Airport', '07d9ecc730083002'),\n",
       " ('poi', 'Ingersoll Hall', '07d9d2f29e484003'),\n",
       " ('poi', 'Jerry Orbach Theatre', '07d9db50be880000'),\n",
       " ('poi', 'John F. Kennedy International Airport (JFK)', '07d9d215b0886001'),\n",
       " ('poi', 'MTA B17/B46', '07d9efbfbfc82000'),\n",
       " ('poi', 'Madison Square Garden', '07d9db0a2dc81000'),\n",
       " ('poi', \"Maguire's Public House\", '07d9caa32d487002'),\n",
       " ('poi', 'Mendez Boxing', '07d9e3f82ec80001'),\n",
       " ('poi', 'Michael Aram Inc', '07d9d25ef4c86003'),\n",
       " ('poi', \"Milano's Bar\", '07d9c924e2c86001'),\n",
       " ('poi', 'NCA - Newark Collegiate Academy', '07d9e9039f486000'),\n",
       " ('poi', 'NYC x Design Pavillion', '0dd5ebece596b000'),\n",
       " ('poi', 'Popeyes Louisiana Chicken', '07d9f0fd9d487001'),\n",
       " ('poi', 'Reaktor Inc W38', '0eb7c83fd1d74000'),\n",
       " ('poi', 'Rise New York', '089fa48142d6c002'),\n",
       " ('poi', 'SVA Theatre', '07d9ec7752481000'),\n",
       " ('poi', 'Shakespeare & Co', '07d9db19ae484000'),\n",
       " ('poi', 'Silver Towers Park', '07d9e473b2882000'),\n",
       " ('poi', 'Stupid Cancer', '07d9d28a0e883001'),\n",
       " ('poi', 'Super Cuts', '07d9d46c86c86003'),\n",
       " ('poi', 'The Polo Bar', '07d9dae788883001'),\n",
       " ('poi', 'Tiffany & Co.', '07d9c929fc486001'),\n",
       " ('poi', 'Two Lizards Mexican Bar & Grill', '07d9ea4e27484002'),\n",
       " ('poi', 'thoughtbot', '07d9ebcaef480001')}"
      ]
     },
     "execution_count": 70,
     "metadata": {},
     "output_type": "execute_result"
    }
   ],
   "source": [
    "set((filter(lambda x: x, map(lambda x: (x['place']['place_type'] if x['place'] else 'none',\n",
    "                                        x['place']['full_name'] if x['place'] else 'none',\n",
    "                                        x['place']['id'] if x['place'] else 'none'), allTweets))))"
   ]
  },
  {
   "cell_type": "code",
   "execution_count": 65,
   "metadata": {},
   "outputs": [],
   "source": [
    "from functools import reduce\n",
    "\n",
    "def reducer(x,y):\n",
    "    x[y] = x.get(y, 0) + 1\n",
    "    return x"
   ]
  },
  {
   "cell_type": "code",
   "execution_count": 71,
   "metadata": {},
   "outputs": [
    {
     "data": {
      "text/plain": [
       "{'Randomized': 2832, 'Exact': 326, False: 1255}"
      ]
     },
     "execution_count": 71,
     "metadata": {},
     "output_type": "execute_result"
    }
   ],
   "source": [
    "places = reduce(reducer,map(lambda x: x['geo_source'], allTweets),{})\n",
    "places"
   ]
  },
  {
   "cell_type": "markdown",
   "metadata": {},
   "source": [
    "## Get Delaunays triangulation of polygons, and keep only those inside polygon."
   ]
  },
  {
   "cell_type": "code",
   "execution_count": null,
   "metadata": {},
   "outputs": [],
   "source": [
    "from shapely.geometry import shape, Point, Polygon, mapping\n",
    "import json"
   ]
  },
  {
   "cell_type": "code",
   "execution_count": null,
   "metadata": {},
   "outputs": [],
   "source": [
    "with open('nyc-borough-boundaries.geojson') as json_file:  \n",
    "    data = json.load(json_file)"
   ]
  },
  {
   "cell_type": "code",
   "execution_count": 119,
   "metadata": {},
   "outputs": [
    {
     "name": "stdout",
     "output_type": "stream",
     "text": [
      "Manhattan\n",
      "Bronx\n",
      "Staten Island\n",
      "Brooklyn\n",
      "Queens\n"
     ]
    }
   ],
   "source": [
    "for d in data['features']:\n",
    "    d['geometry'] = shape(d['geometry'])\n",
    "    areas = []\n",
    "    transforms = []\n",
    "    for t in triangulate(d['geometry']):\n",
    "        if t.within(d['geometry']):\n",
    "            areas.append(t.area)\n",
    "            (x0, y0), (x1, y1), (x2, y2), _ = t.exterior.coords\n",
    "            transforms.append([x1 - x0, x2 - x0, y2 - y0, y1 - y0, x0, y0])\n",
    "    d['areas'] = areas\n",
    "    d['transforms'] = transforms\n",
    "    print(d['properties']['boro_name'])"
   ]
  },
  {
   "cell_type": "code",
   "execution_count": 125,
   "metadata": {},
   "outputs": [],
   "source": [
    "for d in data['features']:\n",
    "    d['geometry'] = mapping(d['geometry'])"
   ]
  },
  {
   "cell_type": "code",
   "execution_count": 126,
   "metadata": {},
   "outputs": [],
   "source": [
    "with open('nyc-borough-processed.geojson', 'w') as outfile:  \n",
    "    json.dump(data, outfile)"
   ]
  },
  {
   "cell_type": "code",
   "execution_count": 128,
   "metadata": {},
   "outputs": [],
   "source": [
    "for d in data2['features']:\n",
    "    d['geometry'] = shape(d['geometry'])"
   ]
  },
  {
   "cell_type": "code",
   "execution_count": 36,
   "metadata": {},
   "outputs": [],
   "source": [
    "boro_names = [d['properties']['boro_name'] for d in data['features']]"
   ]
  },
  {
   "cell_type": "code",
   "execution_count": 129,
   "metadata": {},
   "outputs": [],
   "source": [
    "from numpy.random import uniform\n",
    "\n",
    "yes = 0\n",
    "no = 0\n",
    "\n",
    "for t in allTweets:\n",
    "    if (t['coordinates'] is None) and (t['place']['place_type'] == 'city') and (t['place']['name'] in boro_names):\n",
    "        coords = t['place']['bounding_box']['coordinates'][0]\n",
    "        #minx = min(coords, key=lambda x: x[0])[0]\n",
    "        #maxx = max(coords, key=lambda x: x[0])[0]\n",
    "        #miny = min(coords, key=lambda x: x[1])[1]\n",
    "        #maxy = max(coords, key=lambda x: x[1])[1]\n",
    "        boro = list(filter(lambda x: x['properties']['boro_name'] == t['place']['name'], data2['features']))[0]\n",
    "        #minx, miny, maxx, maxy = boro.bounds\n",
    "        #x = uniform(minx, maxx)\n",
    "        #y = uniform(miny, maxy)\n",
    "        #while (~boro.intersects(Point([x, y]))):\n",
    "        #    x = uniform(minx, maxx)\n",
    "        #    y = uniform(miny, maxy)\n",
    "        t['coords'] = random_point_in_polygon(boro['transforms'], boro['areas'])\n",
    "        if t['coords'].within(boro['geometry']):\n",
    "            yes += 1\n",
    "        else:\n",
    "            no += 1"
   ]
  },
  {
   "cell_type": "code",
   "execution_count": 132,
   "metadata": {},
   "outputs": [
    {
     "data": {
      "text/plain": [
       "1192"
      ]
     },
     "execution_count": 132,
     "metadata": {},
     "output_type": "execute_result"
    }
   ],
   "source": [
    "yes"
   ]
  },
  {
   "cell_type": "code",
   "execution_count": 106,
   "metadata": {},
   "outputs": [],
   "source": []
  },
  {
   "cell_type": "code",
   "execution_count": null,
   "metadata": {},
   "outputs": [],
   "source": []
  }
 ],
 "metadata": {
  "kernelspec": {
   "display_name": "Python 3",
   "language": "python",
   "name": "python3"
  },
  "language_info": {
   "codemirror_mode": {
    "name": "ipython",
    "version": 3
   },
   "file_extension": ".py",
   "mimetype": "text/x-python",
   "name": "python",
   "nbconvert_exporter": "python",
   "pygments_lexer": "ipython3",
   "version": "3.6.7"
  }
 },
 "nbformat": 4,
 "nbformat_minor": 2
}
