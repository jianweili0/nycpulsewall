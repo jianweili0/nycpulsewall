{
 "cells": [
  {
   "cell_type": "code",
   "execution_count": 43,
   "metadata": {},
   "outputs": [],
   "source": [
    "import os\n",
    "\n",
    "import pandas as pd\n",
    "import geopandas as gpd\n",
    "from pandas.io.json import json_normalize\n",
    "import json\n",
    "\n",
    "from datetime import datetime\n",
    "\n",
    "import matplotlib.pyplot as plt\n",
    "from matplotlib.dates import DateFormatter\n",
    "%matplotlib inline"
   ]
  },
  {
   "cell_type": "code",
   "execution_count": 2,
   "metadata": {},
   "outputs": [],
   "source": [
    "data_path = os.getenv('DATA_PATH')"
   ]
  },
  {
   "cell_type": "code",
   "execution_count": 3,
   "metadata": {},
   "outputs": [],
   "source": [
    "data = []\n",
    "with open(data_path + '/tweets_2019-03-25.json') as f:\n",
    "    for line in f:\n",
    "        data.append(json.loads(line))\n",
    "\n",
    "df = json_normalize(data)"
   ]
  },
  {
   "cell_type": "code",
   "execution_count": 4,
   "metadata": {},
   "outputs": [
    {
     "data": {
      "text/html": [
       "<div>\n",
       "<style scoped>\n",
       "    .dataframe tbody tr th:only-of-type {\n",
       "        vertical-align: middle;\n",
       "    }\n",
       "\n",
       "    .dataframe tbody tr th {\n",
       "        vertical-align: top;\n",
       "    }\n",
       "\n",
       "    .dataframe thead th {\n",
       "        text-align: right;\n",
       "    }\n",
       "</style>\n",
       "<table border=\"1\" class=\"dataframe\">\n",
       "  <thead>\n",
       "    <tr style=\"text-align: right;\">\n",
       "      <th></th>\n",
       "      <th>borough</th>\n",
       "      <th>contributors</th>\n",
       "      <th>coordinates.coordinates</th>\n",
       "      <th>coordinates.type</th>\n",
       "      <th>coords_source</th>\n",
       "      <th>created_at</th>\n",
       "      <th>display_text_range</th>\n",
       "      <th>entities.hashtags</th>\n",
       "      <th>entities.media</th>\n",
       "      <th>entities.symbols</th>\n",
       "      <th>...</th>\n",
       "      <th>user.profile_text_color</th>\n",
       "      <th>user.profile_use_background_image</th>\n",
       "      <th>user.protected</th>\n",
       "      <th>user.screen_name</th>\n",
       "      <th>user.statuses_count</th>\n",
       "      <th>user.time_zone</th>\n",
       "      <th>user.translator_type</th>\n",
       "      <th>user.url</th>\n",
       "      <th>user.utc_offset</th>\n",
       "      <th>user.verified</th>\n",
       "    </tr>\n",
       "  </thead>\n",
       "  <tbody>\n",
       "    <tr>\n",
       "      <th>0</th>\n",
       "      <td>Brooklyn</td>\n",
       "      <td>None</td>\n",
       "      <td>[-74.02246922567996, 40.6458190323863]</td>\n",
       "      <td>Point</td>\n",
       "      <td>Randomized</td>\n",
       "      <td>Mon Mar 25 00:00:05 -0400 2019</td>\n",
       "      <td>[15, 16]</td>\n",
       "      <td>[]</td>\n",
       "      <td>NaN</td>\n",
       "      <td>[]</td>\n",
       "      <td>...</td>\n",
       "      <td>333333</td>\n",
       "      <td>True</td>\n",
       "      <td>False</td>\n",
       "      <td>RallyBeagle</td>\n",
       "      <td>235</td>\n",
       "      <td>None</td>\n",
       "      <td>none</td>\n",
       "      <td>None</td>\n",
       "      <td>None</td>\n",
       "      <td>False</td>\n",
       "    </tr>\n",
       "    <tr>\n",
       "      <th>1</th>\n",
       "      <td>Bronx</td>\n",
       "      <td>None</td>\n",
       "      <td>[-73.87304447466002, 40.85190672099046]</td>\n",
       "      <td>Point</td>\n",
       "      <td>Randomized</td>\n",
       "      <td>Mon Mar 25 00:00:07 -0400 2019</td>\n",
       "      <td>NaN</td>\n",
       "      <td>[]</td>\n",
       "      <td>NaN</td>\n",
       "      <td>[]</td>\n",
       "      <td>...</td>\n",
       "      <td>333333</td>\n",
       "      <td>True</td>\n",
       "      <td>False</td>\n",
       "      <td>Jgardnernorth1</td>\n",
       "      <td>2970</td>\n",
       "      <td>None</td>\n",
       "      <td>none</td>\n",
       "      <td>None</td>\n",
       "      <td>None</td>\n",
       "      <td>False</td>\n",
       "    </tr>\n",
       "    <tr>\n",
       "      <th>2</th>\n",
       "      <td>Brooklyn</td>\n",
       "      <td>None</td>\n",
       "      <td>[-73.90293203829336, 40.61399639052241]</td>\n",
       "      <td>Point</td>\n",
       "      <td>Randomized</td>\n",
       "      <td>Mon Mar 25 00:00:08 -0400 2019</td>\n",
       "      <td>NaN</td>\n",
       "      <td>[]</td>\n",
       "      <td>NaN</td>\n",
       "      <td>[]</td>\n",
       "      <td>...</td>\n",
       "      <td>000000</td>\n",
       "      <td>True</td>\n",
       "      <td>False</td>\n",
       "      <td>conleyfanclub</td>\n",
       "      <td>448340</td>\n",
       "      <td>None</td>\n",
       "      <td>none</td>\n",
       "      <td>https://soundcloud.com/conley-p</td>\n",
       "      <td>None</td>\n",
       "      <td>False</td>\n",
       "    </tr>\n",
       "    <tr>\n",
       "      <th>3</th>\n",
       "      <td>Manhattan</td>\n",
       "      <td>None</td>\n",
       "      <td>[-73.92998973319666, 40.8486461240987]</td>\n",
       "      <td>Point</td>\n",
       "      <td>Randomized</td>\n",
       "      <td>Mon Mar 25 00:00:10 -0400 2019</td>\n",
       "      <td>NaN</td>\n",
       "      <td>[]</td>\n",
       "      <td>NaN</td>\n",
       "      <td>[]</td>\n",
       "      <td>...</td>\n",
       "      <td>333333</td>\n",
       "      <td>True</td>\n",
       "      <td>False</td>\n",
       "      <td>xjoshjohnson</td>\n",
       "      <td>9316</td>\n",
       "      <td>None</td>\n",
       "      <td>none</td>\n",
       "      <td>None</td>\n",
       "      <td>None</td>\n",
       "      <td>False</td>\n",
       "    </tr>\n",
       "    <tr>\n",
       "      <th>4</th>\n",
       "      <td>Brooklyn</td>\n",
       "      <td>None</td>\n",
       "      <td>[-73.93387182930736, 40.6762074033064]</td>\n",
       "      <td>Point</td>\n",
       "      <td>Randomized</td>\n",
       "      <td>Mon Mar 25 00:00:11 -0400 2019</td>\n",
       "      <td>[15, 54]</td>\n",
       "      <td>[]</td>\n",
       "      <td>NaN</td>\n",
       "      <td>[]</td>\n",
       "      <td>...</td>\n",
       "      <td>000000</td>\n",
       "      <td>False</td>\n",
       "      <td>False</td>\n",
       "      <td>dancesiobhan</td>\n",
       "      <td>761</td>\n",
       "      <td>None</td>\n",
       "      <td>none</td>\n",
       "      <td>None</td>\n",
       "      <td>None</td>\n",
       "      <td>False</td>\n",
       "    </tr>\n",
       "  </tbody>\n",
       "</table>\n",
       "<p>5 rows × 195 columns</p>\n",
       "</div>"
      ],
      "text/plain": [
       "     borough contributors                  coordinates.coordinates  \\\n",
       "0   Brooklyn         None   [-74.02246922567996, 40.6458190323863]   \n",
       "1      Bronx         None  [-73.87304447466002, 40.85190672099046]   \n",
       "2   Brooklyn         None  [-73.90293203829336, 40.61399639052241]   \n",
       "3  Manhattan         None   [-73.92998973319666, 40.8486461240987]   \n",
       "4   Brooklyn         None   [-73.93387182930736, 40.6762074033064]   \n",
       "\n",
       "  coordinates.type coords_source                      created_at  \\\n",
       "0            Point    Randomized  Mon Mar 25 00:00:05 -0400 2019   \n",
       "1            Point    Randomized  Mon Mar 25 00:00:07 -0400 2019   \n",
       "2            Point    Randomized  Mon Mar 25 00:00:08 -0400 2019   \n",
       "3            Point    Randomized  Mon Mar 25 00:00:10 -0400 2019   \n",
       "4            Point    Randomized  Mon Mar 25 00:00:11 -0400 2019   \n",
       "\n",
       "  display_text_range entities.hashtags entities.media entities.symbols  \\\n",
       "0           [15, 16]                []            NaN               []   \n",
       "1                NaN                []            NaN               []   \n",
       "2                NaN                []            NaN               []   \n",
       "3                NaN                []            NaN               []   \n",
       "4           [15, 54]                []            NaN               []   \n",
       "\n",
       "       ...      user.profile_text_color user.profile_use_background_image  \\\n",
       "0      ...                       333333                              True   \n",
       "1      ...                       333333                              True   \n",
       "2      ...                       000000                              True   \n",
       "3      ...                       333333                              True   \n",
       "4      ...                       000000                             False   \n",
       "\n",
       "  user.protected user.screen_name user.statuses_count user.time_zone  \\\n",
       "0          False      RallyBeagle                 235           None   \n",
       "1          False   Jgardnernorth1                2970           None   \n",
       "2          False    conleyfanclub              448340           None   \n",
       "3          False     xjoshjohnson                9316           None   \n",
       "4          False     dancesiobhan                 761           None   \n",
       "\n",
       "  user.translator_type                         user.url user.utc_offset  \\\n",
       "0                 none                             None            None   \n",
       "1                 none                             None            None   \n",
       "2                 none  https://soundcloud.com/conley-p            None   \n",
       "3                 none                             None            None   \n",
       "4                 none                             None            None   \n",
       "\n",
       "  user.verified  \n",
       "0         False  \n",
       "1         False  \n",
       "2         False  \n",
       "3         False  \n",
       "4         False  \n",
       "\n",
       "[5 rows x 195 columns]"
      ]
     },
     "execution_count": 4,
     "metadata": {},
     "output_type": "execute_result"
    }
   ],
   "source": [
    "df.head()"
   ]
  },
  {
   "cell_type": "code",
   "execution_count": 5,
   "metadata": {},
   "outputs": [
    {
     "data": {
      "text/plain": [
       "['borough',\n",
       " 'contributors',\n",
       " 'coordinates.coordinates',\n",
       " 'coordinates.type',\n",
       " 'coords_source',\n",
       " 'created_at',\n",
       " 'display_text_range',\n",
       " 'entities.hashtags',\n",
       " 'entities.media',\n",
       " 'entities.symbols',\n",
       " 'entities.urls',\n",
       " 'entities.user_mentions',\n",
       " 'extended_entities.media',\n",
       " 'extended_tweet.display_text_range',\n",
       " 'extended_tweet.entities.hashtags',\n",
       " 'extended_tweet.entities.media',\n",
       " 'extended_tweet.entities.symbols',\n",
       " 'extended_tweet.entities.urls',\n",
       " 'extended_tweet.entities.user_mentions',\n",
       " 'extended_tweet.extended_entities.media',\n",
       " 'extended_tweet.full_text',\n",
       " 'favorite_count',\n",
       " 'favorited',\n",
       " 'filter_level',\n",
       " 'geo',\n",
       " 'geo.coordinates',\n",
       " 'geo.type',\n",
       " 'id',\n",
       " 'id_str',\n",
       " 'in_reply_to_screen_name',\n",
       " 'in_reply_to_status_id',\n",
       " 'in_reply_to_status_id_str',\n",
       " 'in_reply_to_user_id',\n",
       " 'in_reply_to_user_id_str',\n",
       " 'is_quote_status',\n",
       " 'lang',\n",
       " 'place',\n",
       " 'place.bounding_box.coordinates',\n",
       " 'place.bounding_box.type',\n",
       " 'place.country',\n",
       " 'place.country_code',\n",
       " 'place.full_name',\n",
       " 'place.id',\n",
       " 'place.name',\n",
       " 'place.place_type',\n",
       " 'place.url',\n",
       " 'polarity',\n",
       " 'possibly_sensitive',\n",
       " 'quote_count',\n",
       " 'quoted_status.contributors',\n",
       " 'quoted_status.coordinates',\n",
       " 'quoted_status.coordinates.coordinates',\n",
       " 'quoted_status.coordinates.type',\n",
       " 'quoted_status.created_at',\n",
       " 'quoted_status.display_text_range',\n",
       " 'quoted_status.entities.hashtags',\n",
       " 'quoted_status.entities.media',\n",
       " 'quoted_status.entities.symbols',\n",
       " 'quoted_status.entities.urls',\n",
       " 'quoted_status.entities.user_mentions',\n",
       " 'quoted_status.extended_entities.media',\n",
       " 'quoted_status.extended_tweet.display_text_range',\n",
       " 'quoted_status.extended_tweet.entities.hashtags',\n",
       " 'quoted_status.extended_tweet.entities.media',\n",
       " 'quoted_status.extended_tweet.entities.symbols',\n",
       " 'quoted_status.extended_tweet.entities.urls',\n",
       " 'quoted_status.extended_tweet.entities.user_mentions',\n",
       " 'quoted_status.extended_tweet.extended_entities.media',\n",
       " 'quoted_status.extended_tweet.full_text',\n",
       " 'quoted_status.favorite_count',\n",
       " 'quoted_status.favorited',\n",
       " 'quoted_status.filter_level',\n",
       " 'quoted_status.geo',\n",
       " 'quoted_status.geo.coordinates',\n",
       " 'quoted_status.geo.type',\n",
       " 'quoted_status.id',\n",
       " 'quoted_status.id_str',\n",
       " 'quoted_status.in_reply_to_screen_name',\n",
       " 'quoted_status.in_reply_to_status_id',\n",
       " 'quoted_status.in_reply_to_status_id_str',\n",
       " 'quoted_status.in_reply_to_user_id',\n",
       " 'quoted_status.in_reply_to_user_id_str',\n",
       " 'quoted_status.is_quote_status',\n",
       " 'quoted_status.lang',\n",
       " 'quoted_status.place',\n",
       " 'quoted_status.place.bounding_box.coordinates',\n",
       " 'quoted_status.place.bounding_box.type',\n",
       " 'quoted_status.place.country',\n",
       " 'quoted_status.place.country_code',\n",
       " 'quoted_status.place.full_name',\n",
       " 'quoted_status.place.id',\n",
       " 'quoted_status.place.name',\n",
       " 'quoted_status.place.place_type',\n",
       " 'quoted_status.place.url',\n",
       " 'quoted_status.possibly_sensitive',\n",
       " 'quoted_status.quote_count',\n",
       " 'quoted_status.quoted_status_id',\n",
       " 'quoted_status.quoted_status_id_str',\n",
       " 'quoted_status.reply_count',\n",
       " 'quoted_status.retweet_count',\n",
       " 'quoted_status.retweeted',\n",
       " 'quoted_status.scopes.followers',\n",
       " 'quoted_status.source',\n",
       " 'quoted_status.text',\n",
       " 'quoted_status.truncated',\n",
       " 'quoted_status.user.contributors_enabled',\n",
       " 'quoted_status.user.created_at',\n",
       " 'quoted_status.user.default_profile',\n",
       " 'quoted_status.user.default_profile_image',\n",
       " 'quoted_status.user.description',\n",
       " 'quoted_status.user.favourites_count',\n",
       " 'quoted_status.user.follow_request_sent',\n",
       " 'quoted_status.user.followers_count',\n",
       " 'quoted_status.user.following',\n",
       " 'quoted_status.user.friends_count',\n",
       " 'quoted_status.user.geo_enabled',\n",
       " 'quoted_status.user.id',\n",
       " 'quoted_status.user.id_str',\n",
       " 'quoted_status.user.is_translator',\n",
       " 'quoted_status.user.lang',\n",
       " 'quoted_status.user.listed_count',\n",
       " 'quoted_status.user.location',\n",
       " 'quoted_status.user.name',\n",
       " 'quoted_status.user.notifications',\n",
       " 'quoted_status.user.profile_background_color',\n",
       " 'quoted_status.user.profile_background_image_url',\n",
       " 'quoted_status.user.profile_background_image_url_https',\n",
       " 'quoted_status.user.profile_background_tile',\n",
       " 'quoted_status.user.profile_banner_url',\n",
       " 'quoted_status.user.profile_image_url',\n",
       " 'quoted_status.user.profile_image_url_https',\n",
       " 'quoted_status.user.profile_link_color',\n",
       " 'quoted_status.user.profile_sidebar_border_color',\n",
       " 'quoted_status.user.profile_sidebar_fill_color',\n",
       " 'quoted_status.user.profile_text_color',\n",
       " 'quoted_status.user.profile_use_background_image',\n",
       " 'quoted_status.user.protected',\n",
       " 'quoted_status.user.screen_name',\n",
       " 'quoted_status.user.statuses_count',\n",
       " 'quoted_status.user.time_zone',\n",
       " 'quoted_status.user.translator_type',\n",
       " 'quoted_status.user.url',\n",
       " 'quoted_status.user.utc_offset',\n",
       " 'quoted_status.user.verified',\n",
       " 'quoted_status_id',\n",
       " 'quoted_status_id_str',\n",
       " 'quoted_status_permalink.display',\n",
       " 'quoted_status_permalink.expanded',\n",
       " 'quoted_status_permalink.url',\n",
       " 'reply_count',\n",
       " 'retweet_count',\n",
       " 'retweeted',\n",
       " 'source',\n",
       " 'text',\n",
       " 'timestamp_ms',\n",
       " 'truncated',\n",
       " 'user.contributors_enabled',\n",
       " 'user.created_at',\n",
       " 'user.default_profile',\n",
       " 'user.default_profile_image',\n",
       " 'user.description',\n",
       " 'user.favourites_count',\n",
       " 'user.follow_request_sent',\n",
       " 'user.followers_count',\n",
       " 'user.following',\n",
       " 'user.friends_count',\n",
       " 'user.geo_enabled',\n",
       " 'user.id',\n",
       " 'user.id_str',\n",
       " 'user.is_translator',\n",
       " 'user.lang',\n",
       " 'user.listed_count',\n",
       " 'user.location',\n",
       " 'user.name',\n",
       " 'user.notifications',\n",
       " 'user.profile_background_color',\n",
       " 'user.profile_background_image_url',\n",
       " 'user.profile_background_image_url_https',\n",
       " 'user.profile_background_tile',\n",
       " 'user.profile_banner_url',\n",
       " 'user.profile_image_url',\n",
       " 'user.profile_image_url_https',\n",
       " 'user.profile_link_color',\n",
       " 'user.profile_sidebar_border_color',\n",
       " 'user.profile_sidebar_fill_color',\n",
       " 'user.profile_text_color',\n",
       " 'user.profile_use_background_image',\n",
       " 'user.protected',\n",
       " 'user.screen_name',\n",
       " 'user.statuses_count',\n",
       " 'user.time_zone',\n",
       " 'user.translator_type',\n",
       " 'user.url',\n",
       " 'user.utc_offset',\n",
       " 'user.verified']"
      ]
     },
     "execution_count": 5,
     "metadata": {},
     "output_type": "execute_result"
    }
   ],
   "source": [
    "list(df.columns)"
   ]
  },
  {
   "cell_type": "code",
   "execution_count": 22,
   "metadata": {},
   "outputs": [
    {
     "data": {
      "text/plain": [
       "(40644, 194)"
      ]
     },
     "execution_count": 22,
     "metadata": {},
     "output_type": "execute_result"
    }
   ],
   "source": [
    "df.shape"
   ]
  },
  {
   "cell_type": "code",
   "execution_count": 7,
   "metadata": {},
   "outputs": [
    {
     "data": {
      "text/plain": [
       "Manhattan        49.510383\n",
       "Brooklyn         26.003838\n",
       "Queens           18.713709\n",
       "Bronx             3.498671\n",
       "Staten Island     2.273398\n",
       "Name: borough, dtype: float64"
      ]
     },
     "execution_count": 7,
     "metadata": {},
     "output_type": "execute_result"
    }
   ],
   "source": [
    "boro_pct = df.borough.value_counts()/df.borough.value_counts().sum()*100\n",
    "boro_pct"
   ]
  },
  {
   "cell_type": "code",
   "execution_count": 74,
   "metadata": {},
   "outputs": [
    {
     "data": {
      "image/png": "[encoded data removed]",
      "text/plain": [
       "<Figure size 216x504 with 1 Axes>"
      ]
     },
     "metadata": {
      "needs_background": "light"
     },
     "output_type": "display_data"
    }
   ],
   "source": [
    "fig, ax = plt.subplots(figsize=(3,7))\n",
    "\n",
    "boro_pct.sort_values().plot.barh(ax=ax, color='tab:blue')\n",
    "ax.set_xlabel('percentage')\n",
    "plt.show()"
   ]
  },
  {
   "cell_type": "code",
   "execution_count": 26,
   "metadata": {},
   "outputs": [
    {
     "data": {
      "text/plain": [
       "Randomized    34375\n",
       "Origin         6269\n",
       "Name: coords_source, dtype: int64"
      ]
     },
     "execution_count": 26,
     "metadata": {},
     "output_type": "execute_result"
    }
   ],
   "source": [
    "df.coords_source.value_counts()"
   ]
  },
  {
   "cell_type": "code",
   "execution_count": 40,
   "metadata": {},
   "outputs": [
    {
     "data": {
      "text/plain": [
       "Origin                       0.154242\n",
       "Randomized (borough)         0.708592\n",
       "Randomized (city)            0.110988\n",
       "Randomized (neighborhood)    0.010506\n",
       "Randomized (poi)             0.015673\n",
       "dtype: float64"
      ]
     },
     "execution_count": 40,
     "metadata": {},
     "output_type": "execute_result"
    }
   ],
   "source": [
    "randomization = (df.coords_source.apply(lambda x: x + ' (') + df['place.place_type'].apply(lambda x: str(x) + ')')).apply(\n",
    "    lambda x: x.replace('city', 'borough').replace('admin', 'city') if x.startswith('Randomized') else 'Origin').value_counts().pipe(\n",
    "    lambda x: x/x.sum()).sort_index()\n",
    "randomization"
   ]
  },
  {
   "cell_type": "code",
   "execution_count": 46,
   "metadata": {},
   "outputs": [
    {
     "data": {
      "image/png": "[encoded data removed]",
      "text/plain": [
       "<Figure size 720x504 with 1 Axes>"
      ]
     },
     "metadata": {
      "needs_background": "light"
     },
     "output_type": "display_data"
    }
   ],
   "source": [
    "fig, ax = plt.subplots(figsize=(10,7))\n",
    "\n",
    "randomization[::-1].plot.barh(ax=ax, color='tab:blue')\n",
    "ax.set_xlabel('percentage')\n",
    "plt.show()"
   ]
  },
  {
   "cell_type": "code",
   "execution_count": 73,
   "metadata": {},
   "outputs": [
    {
     "data": {
      "image/png": "[encoded data removed]",
      "text/plain": [
       "<Figure size 864x720 with 2 Axes>"
      ]
     },
     "metadata": {
      "needs_background": "light"
     },
     "output_type": "display_data"
    }
   ],
   "source": [
    "fig, (ax1, ax2) = plt.subplots(nrows=2, figsize=(12,10))\n",
    "\n",
    "df.polarity.hist(bins=50, ax=ax1)\n",
    "ax1.set_xlabel('polarity')\n",
    "ax1.set_ylabel('count')\n",
    "ax1.grid(False)\n",
    "\n",
    "df.polarity.hist(bins=50, ax=ax2)\n",
    "ax2.set_xlabel('polarity')\n",
    "ax2.set_ylabel('count')\n",
    "ax2.grid(False)\n",
    "ax2.set_ylim(0,2000)\n",
    "\n",
    "plt.show()"
   ]
  },
  {
   "cell_type": "code",
   "execution_count": 62,
   "metadata": {},
   "outputs": [
    {
     "data": {
      "text/plain": [
       "0.34179706721779352"
      ]
     },
     "execution_count": 62,
     "metadata": {},
     "output_type": "execute_result"
    }
   ],
   "source": [
    "(df.polarity > 0).sum()/len(df)"
   ]
  },
  {
   "cell_type": "code",
   "execution_count": 63,
   "metadata": {},
   "outputs": [
    {
     "data": {
      "text/plain": [
       "0.12907194173801792"
      ]
     },
     "execution_count": 63,
     "metadata": {},
     "output_type": "execute_result"
    }
   ],
   "source": [
    "(df.polarity < 0).sum()/len(df)"
   ]
  },
  {
   "cell_type": "code",
   "execution_count": 66,
   "metadata": {},
   "outputs": [
    {
     "data": {
      "text/plain": [
       "0.52913099104418859"
      ]
     },
     "execution_count": 66,
     "metadata": {},
     "output_type": "execute_result"
    }
   ],
   "source": [
    "(df.polarity == 0).sum()/len(df)"
   ]
  },
  {
   "cell_type": "code",
   "execution_count": 69,
   "metadata": {},
   "outputs": [
    {
     "data": {
      "text/plain": [
       "0"
      ]
     },
     "execution_count": 69,
     "metadata": {},
     "output_type": "execute_result"
    }
   ],
   "source": [
    "df.polarity.isna().sum()"
   ]
  },
  {
   "cell_type": "code",
   "execution_count": 10,
   "metadata": {},
   "outputs": [],
   "source": [
    "from functools import reduce\n",
    "\n",
    "def reducer(x,y):\n",
    "    y = y.lower()\n",
    "    x[y] = x.get(y,0) + 1\n",
    "    return x\n",
    "\n",
    "def get_entity(ent, sub, prefix):\n",
    "\n",
    "    entity = list(map(lambda x: list(map(lambda y: prefix+y[sub], x)) if len(x) > 0 else None,df['entities.{}'.format(ent)]))\n",
    "\n",
    "    entity = [item for sublist in entity if sublist is not None for item in sublist]\n",
    "\n",
    "    entity = reduce(reducer, entity, {})\n",
    "\n",
    "    entity = list(zip(entity.keys(), entity.values()))\n",
    "\n",
    "    entity.sort(key=lambda x: x[1], reverse=True)\n",
    "    \n",
    "    return entity"
   ]
  },
  {
   "cell_type": "code",
   "execution_count": 11,
   "metadata": {},
   "outputs": [
    {
     "data": {
      "text/plain": [
       "[('#newyork', 249),\n",
       " ('#nyc', 232),\n",
       " ('#tshirt', 136),\n",
       " ('#tshirts', 136),\n",
       " ('#tshirtdesign', 136),\n",
       " ('#appleevent', 126),\n",
       " ('#freeship', 84),\n",
       " ('#newyorkcity', 73),\n",
       " ('#brooklyn', 73),\n",
       " ('#lhhatl', 72)]"
      ]
     },
     "execution_count": 11,
     "metadata": {},
     "output_type": "execute_result"
    }
   ],
   "source": [
    "hashtags = get_entity('hashtags', 'text', '#')\n",
    "hashtags[:10]"
   ]
  },
  {
   "cell_type": "code",
   "execution_count": 12,
   "metadata": {},
   "outputs": [
    {
     "data": {
      "text/plain": [
       "6723"
      ]
     },
     "execution_count": 12,
     "metadata": {},
     "output_type": "execute_result"
    }
   ],
   "source": [
    "len(hashtags)"
   ]
  },
  {
   "cell_type": "code",
   "execution_count": 59,
   "metadata": {},
   "outputs": [
    {
     "data": {
      "image/png": "[encoded data removed]",
      "text/plain": [
       "<Figure size 216x504 with 1 Axes>"
      ]
     },
     "metadata": {
      "needs_background": "light"
     },
     "output_type": "display_data"
    }
   ],
   "source": [
    "fig, ax = plt.subplots(figsize=(3,7))\n",
    "\n",
    "x, y = zip(*hashtags[:10])\n",
    "\n",
    "ax.barh(x[::-1], y[::-1], color='tab:blue')\n",
    "ax.set_xlabel('count')\n",
    "plt.show()"
   ]
  },
  {
   "cell_type": "code",
   "execution_count": 14,
   "metadata": {},
   "outputs": [
    {
     "data": {
      "text/plain": [
       "[('@realdonaldtrump', 339),\n",
       " ('@amazon', 146),\n",
       " ('@cnn', 84),\n",
       " ('@donaldjtrumpjr', 73),\n",
       " ('@jackposobiec', 73),\n",
       " ('@ilhanmn', 67),\n",
       " ('@apple', 67),\n",
       " ('@senatemajldr', 66),\n",
       " ('@senschumer', 65),\n",
       " ('@sugardaddysnyc', 57)]"
      ]
     },
     "execution_count": 14,
     "metadata": {},
     "output_type": "execute_result"
    }
   ],
   "source": [
    "user_mentions = get_entity('user_mentions', 'screen_name', '@')\n",
    "user_mentions[:10]"
   ]
  },
  {
   "cell_type": "code",
   "execution_count": 15,
   "metadata": {},
   "outputs": [
    {
     "data": {
      "text/plain": [
       "16912"
      ]
     },
     "execution_count": 15,
     "metadata": {},
     "output_type": "execute_result"
    }
   ],
   "source": [
    "len(user_mentions)"
   ]
  },
  {
   "cell_type": "code",
   "execution_count": 58,
   "metadata": {},
   "outputs": [
    {
     "data": {
      "image/png": "[encoded data removed]",
      "text/plain": [
       "<Figure size 216x504 with 1 Axes>"
      ]
     },
     "metadata": {
      "needs_background": "light"
     },
     "output_type": "display_data"
    }
   ],
   "source": [
    "fig, ax = plt.subplots(figsize=(3,7))\n",
    "\n",
    "x, y = zip(*user_mentions[:10])\n",
    "\n",
    "ax.barh(x[::-1], y[::-1], color='tab:blue')\n",
    "ax.set_xlabel('count')\n",
    "plt.show()"
   ]
  },
  {
   "cell_type": "code",
   "execution_count": 17,
   "metadata": {},
   "outputs": [
    {
     "data": {
      "text/html": [
       "<div>\n",
       "<style scoped>\n",
       "    .dataframe tbody tr th:only-of-type {\n",
       "        vertical-align: middle;\n",
       "    }\n",
       "\n",
       "    .dataframe tbody tr th {\n",
       "        vertical-align: top;\n",
       "    }\n",
       "\n",
       "    .dataframe thead th {\n",
       "        text-align: right;\n",
       "    }\n",
       "</style>\n",
       "<table border=\"1\" class=\"dataframe\">\n",
       "  <thead>\n",
       "    <tr style=\"text-align: right;\">\n",
       "      <th></th>\n",
       "      <th>borough</th>\n",
       "      <th>contributors</th>\n",
       "      <th>coordinates.coordinates</th>\n",
       "      <th>coordinates.type</th>\n",
       "      <th>coords_source</th>\n",
       "      <th>display_text_range</th>\n",
       "      <th>entities.hashtags</th>\n",
       "      <th>entities.media</th>\n",
       "      <th>entities.symbols</th>\n",
       "      <th>entities.urls</th>\n",
       "      <th>...</th>\n",
       "      <th>user.profile_text_color</th>\n",
       "      <th>user.profile_use_background_image</th>\n",
       "      <th>user.protected</th>\n",
       "      <th>user.screen_name</th>\n",
       "      <th>user.statuses_count</th>\n",
       "      <th>user.time_zone</th>\n",
       "      <th>user.translator_type</th>\n",
       "      <th>user.url</th>\n",
       "      <th>user.utc_offset</th>\n",
       "      <th>user.verified</th>\n",
       "    </tr>\n",
       "    <tr>\n",
       "      <th>created_at</th>\n",
       "      <th></th>\n",
       "      <th></th>\n",
       "      <th></th>\n",
       "      <th></th>\n",
       "      <th></th>\n",
       "      <th></th>\n",
       "      <th></th>\n",
       "      <th></th>\n",
       "      <th></th>\n",
       "      <th></th>\n",
       "      <th></th>\n",
       "      <th></th>\n",
       "      <th></th>\n",
       "      <th></th>\n",
       "      <th></th>\n",
       "      <th></th>\n",
       "      <th></th>\n",
       "      <th></th>\n",
       "      <th></th>\n",
       "      <th></th>\n",
       "      <th></th>\n",
       "    </tr>\n",
       "  </thead>\n",
       "  <tbody>\n",
       "    <tr>\n",
       "      <th>2019-03-25 00:00:05-04:00</th>\n",
       "      <td>Brooklyn</td>\n",
       "      <td>None</td>\n",
       "      <td>[-74.02246922567996, 40.6458190323863]</td>\n",
       "      <td>Point</td>\n",
       "      <td>Randomized</td>\n",
       "      <td>[15, 16]</td>\n",
       "      <td>[]</td>\n",
       "      <td>NaN</td>\n",
       "      <td>[]</td>\n",
       "      <td>[]</td>\n",
       "      <td>...</td>\n",
       "      <td>333333</td>\n",
       "      <td>True</td>\n",
       "      <td>False</td>\n",
       "      <td>RallyBeagle</td>\n",
       "      <td>235</td>\n",
       "      <td>None</td>\n",
       "      <td>none</td>\n",
       "      <td>None</td>\n",
       "      <td>None</td>\n",
       "      <td>False</td>\n",
       "    </tr>\n",
       "    <tr>\n",
       "      <th>2019-03-25 00:00:07-04:00</th>\n",
       "      <td>Bronx</td>\n",
       "      <td>None</td>\n",
       "      <td>[-73.87304447466002, 40.85190672099046]</td>\n",
       "      <td>Point</td>\n",
       "      <td>Randomized</td>\n",
       "      <td>NaN</td>\n",
       "      <td>[]</td>\n",
       "      <td>NaN</td>\n",
       "      <td>[]</td>\n",
       "      <td>[]</td>\n",
       "      <td>...</td>\n",
       "      <td>333333</td>\n",
       "      <td>True</td>\n",
       "      <td>False</td>\n",
       "      <td>Jgardnernorth1</td>\n",
       "      <td>2970</td>\n",
       "      <td>None</td>\n",
       "      <td>none</td>\n",
       "      <td>None</td>\n",
       "      <td>None</td>\n",
       "      <td>False</td>\n",
       "    </tr>\n",
       "    <tr>\n",
       "      <th>2019-03-25 00:00:08-04:00</th>\n",
       "      <td>Brooklyn</td>\n",
       "      <td>None</td>\n",
       "      <td>[-73.90293203829336, 40.61399639052241]</td>\n",
       "      <td>Point</td>\n",
       "      <td>Randomized</td>\n",
       "      <td>NaN</td>\n",
       "      <td>[]</td>\n",
       "      <td>NaN</td>\n",
       "      <td>[]</td>\n",
       "      <td>[{'url': 'https://t.co/ZaTH2kNedv', 'expanded_...</td>\n",
       "      <td>...</td>\n",
       "      <td>000000</td>\n",
       "      <td>True</td>\n",
       "      <td>False</td>\n",
       "      <td>conleyfanclub</td>\n",
       "      <td>448340</td>\n",
       "      <td>None</td>\n",
       "      <td>none</td>\n",
       "      <td>https://soundcloud.com/conley-p</td>\n",
       "      <td>None</td>\n",
       "      <td>False</td>\n",
       "    </tr>\n",
       "    <tr>\n",
       "      <th>2019-03-25 00:00:10-04:00</th>\n",
       "      <td>Manhattan</td>\n",
       "      <td>None</td>\n",
       "      <td>[-73.92998973319666, 40.8486461240987]</td>\n",
       "      <td>Point</td>\n",
       "      <td>Randomized</td>\n",
       "      <td>NaN</td>\n",
       "      <td>[]</td>\n",
       "      <td>NaN</td>\n",
       "      <td>[]</td>\n",
       "      <td>[]</td>\n",
       "      <td>...</td>\n",
       "      <td>333333</td>\n",
       "      <td>True</td>\n",
       "      <td>False</td>\n",
       "      <td>xjoshjohnson</td>\n",
       "      <td>9316</td>\n",
       "      <td>None</td>\n",
       "      <td>none</td>\n",
       "      <td>None</td>\n",
       "      <td>None</td>\n",
       "      <td>False</td>\n",
       "    </tr>\n",
       "    <tr>\n",
       "      <th>2019-03-25 00:00:11-04:00</th>\n",
       "      <td>Brooklyn</td>\n",
       "      <td>None</td>\n",
       "      <td>[-73.93387182930736, 40.6762074033064]</td>\n",
       "      <td>Point</td>\n",
       "      <td>Randomized</td>\n",
       "      <td>[15, 54]</td>\n",
       "      <td>[]</td>\n",
       "      <td>NaN</td>\n",
       "      <td>[]</td>\n",
       "      <td>[]</td>\n",
       "      <td>...</td>\n",
       "      <td>000000</td>\n",
       "      <td>False</td>\n",
       "      <td>False</td>\n",
       "      <td>dancesiobhan</td>\n",
       "      <td>761</td>\n",
       "      <td>None</td>\n",
       "      <td>none</td>\n",
       "      <td>None</td>\n",
       "      <td>None</td>\n",
       "      <td>False</td>\n",
       "    </tr>\n",
       "  </tbody>\n",
       "</table>\n",
       "<p>5 rows × 194 columns</p>\n",
       "</div>"
      ],
      "text/plain": [
       "                             borough contributors  \\\n",
       "created_at                                          \n",
       "2019-03-25 00:00:05-04:00   Brooklyn         None   \n",
       "2019-03-25 00:00:07-04:00      Bronx         None   \n",
       "2019-03-25 00:00:08-04:00   Brooklyn         None   \n",
       "2019-03-25 00:00:10-04:00  Manhattan         None   \n",
       "2019-03-25 00:00:11-04:00   Brooklyn         None   \n",
       "\n",
       "                                           coordinates.coordinates  \\\n",
       "created_at                                                           \n",
       "2019-03-25 00:00:05-04:00   [-74.02246922567996, 40.6458190323863]   \n",
       "2019-03-25 00:00:07-04:00  [-73.87304447466002, 40.85190672099046]   \n",
       "2019-03-25 00:00:08-04:00  [-73.90293203829336, 40.61399639052241]   \n",
       "2019-03-25 00:00:10-04:00   [-73.92998973319666, 40.8486461240987]   \n",
       "2019-03-25 00:00:11-04:00   [-73.93387182930736, 40.6762074033064]   \n",
       "\n",
       "                          coordinates.type coords_source display_text_range  \\\n",
       "created_at                                                                    \n",
       "2019-03-25 00:00:05-04:00            Point    Randomized           [15, 16]   \n",
       "2019-03-25 00:00:07-04:00            Point    Randomized                NaN   \n",
       "2019-03-25 00:00:08-04:00            Point    Randomized                NaN   \n",
       "2019-03-25 00:00:10-04:00            Point    Randomized                NaN   \n",
       "2019-03-25 00:00:11-04:00            Point    Randomized           [15, 54]   \n",
       "\n",
       "                          entities.hashtags entities.media entities.symbols  \\\n",
       "created_at                                                                    \n",
       "2019-03-25 00:00:05-04:00                []            NaN               []   \n",
       "2019-03-25 00:00:07-04:00                []            NaN               []   \n",
       "2019-03-25 00:00:08-04:00                []            NaN               []   \n",
       "2019-03-25 00:00:10-04:00                []            NaN               []   \n",
       "2019-03-25 00:00:11-04:00                []            NaN               []   \n",
       "\n",
       "                                                               entities.urls  \\\n",
       "created_at                                                                     \n",
       "2019-03-25 00:00:05-04:00                                                 []   \n",
       "2019-03-25 00:00:07-04:00                                                 []   \n",
       "2019-03-25 00:00:08-04:00  [{'url': 'https://t.co/ZaTH2kNedv', 'expanded_...   \n",
       "2019-03-25 00:00:10-04:00                                                 []   \n",
       "2019-03-25 00:00:11-04:00                                                 []   \n",
       "\n",
       "                               ...      user.profile_text_color  \\\n",
       "created_at                     ...                                \n",
       "2019-03-25 00:00:05-04:00      ...                       333333   \n",
       "2019-03-25 00:00:07-04:00      ...                       333333   \n",
       "2019-03-25 00:00:08-04:00      ...                       000000   \n",
       "2019-03-25 00:00:10-04:00      ...                       333333   \n",
       "2019-03-25 00:00:11-04:00      ...                       000000   \n",
       "\n",
       "                          user.profile_use_background_image user.protected  \\\n",
       "created_at                                                                   \n",
       "2019-03-25 00:00:05-04:00                              True          False   \n",
       "2019-03-25 00:00:07-04:00                              True          False   \n",
       "2019-03-25 00:00:08-04:00                              True          False   \n",
       "2019-03-25 00:00:10-04:00                              True          False   \n",
       "2019-03-25 00:00:11-04:00                             False          False   \n",
       "\n",
       "                          user.screen_name user.statuses_count user.time_zone  \\\n",
       "created_at                                                                      \n",
       "2019-03-25 00:00:05-04:00      RallyBeagle                 235           None   \n",
       "2019-03-25 00:00:07-04:00   Jgardnernorth1                2970           None   \n",
       "2019-03-25 00:00:08-04:00    conleyfanclub              448340           None   \n",
       "2019-03-25 00:00:10-04:00     xjoshjohnson                9316           None   \n",
       "2019-03-25 00:00:11-04:00     dancesiobhan                 761           None   \n",
       "\n",
       "                          user.translator_type  \\\n",
       "created_at                                       \n",
       "2019-03-25 00:00:05-04:00                 none   \n",
       "2019-03-25 00:00:07-04:00                 none   \n",
       "2019-03-25 00:00:08-04:00                 none   \n",
       "2019-03-25 00:00:10-04:00                 none   \n",
       "2019-03-25 00:00:11-04:00                 none   \n",
       "\n",
       "                                                  user.url user.utc_offset  \\\n",
       "created_at                                                                   \n",
       "2019-03-25 00:00:05-04:00                             None            None   \n",
       "2019-03-25 00:00:07-04:00                             None            None   \n",
       "2019-03-25 00:00:08-04:00  https://soundcloud.com/conley-p            None   \n",
       "2019-03-25 00:00:10-04:00                             None            None   \n",
       "2019-03-25 00:00:11-04:00                             None            None   \n",
       "\n",
       "                          user.verified  \n",
       "created_at                               \n",
       "2019-03-25 00:00:05-04:00         False  \n",
       "2019-03-25 00:00:07-04:00         False  \n",
       "2019-03-25 00:00:08-04:00         False  \n",
       "2019-03-25 00:00:10-04:00         False  \n",
       "2019-03-25 00:00:11-04:00         False  \n",
       "\n",
       "[5 rows x 194 columns]"
      ]
     },
     "execution_count": 17,
     "metadata": {},
     "output_type": "execute_result"
    }
   ],
   "source": [
    "df.created_at = df.created_at.apply(datetime.strptime, args=('%a %b %d %H:%M:%S %z %Y',))\n",
    "df.set_index('created_at', inplace=True)\n",
    "df.head()"
   ]
  },
  {
   "cell_type": "code",
   "execution_count": 18,
   "metadata": {},
   "outputs": [],
   "source": [
    "frequency = df.resample('20Min')['borough'].count()"
   ]
  },
  {
   "cell_type": "code",
   "execution_count": 19,
   "metadata": {},
   "outputs": [],
   "source": [
    "frequency.loc[(frequency.index > '2019-03-25 09:00:00') & (frequency.values < 300)] = None"
   ]
  },
  {
   "cell_type": "code",
   "execution_count": 20,
   "metadata": {},
   "outputs": [],
   "source": [
    "frequency.interpolate(inplace=True)"
   ]
  },
  {
   "cell_type": "code",
   "execution_count": 21,
   "metadata": {},
   "outputs": [
    {
     "data": {
      "image/png": "[encoded data removed]",
      "text/plain": [
       "<Figure size 720x504 with 1 Axes>"
      ]
     },
     "metadata": {
      "needs_background": "light"
     },
     "output_type": "display_data"
    }
   ],
   "source": [
    "fig, ax = plt.subplots(figsize=(10,7))\n",
    "\n",
    "frequency.plot(ax=ax)\n",
    "ax.set_xlabel('time')\n",
    "ax.set_ylabel('count')\n",
    "\n",
    "myFmt = DateFormatter(\"%H:%M\", tz=frequency.index.tz)\n",
    "ax.xaxis.set_major_formatter(myFmt)\n",
    "\n",
    "plt.show()"
   ]
  }
 ],
 "metadata": {
  "kernelspec": {
   "display_name": "Python 3",
   "language": "python",
   "name": "python3"
  },
  "language_info": {
   "codemirror_mode": {
    "name": "ipython",
    "version": 3
   },
   "file_extension": ".py",
   "mimetype": "text/x-python",
   "name": "python",
   "nbconvert_exporter": "python",
   "pygments_lexer": "ipython3",
   "version": "3.6.7"
  }
 },
 "nbformat": 4,
 "nbformat_minor": 2
}
